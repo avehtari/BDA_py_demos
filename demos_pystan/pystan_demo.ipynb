{
 "cells": [
  {
   "cell_type": "markdown",
   "metadata": {},
   "source": [
    "# Bayesian data analysis - PyStan demos\n",
    "Author: Aki Vehtari, Tuomas Sivula\n",
    "\n",
    "License: CC-BY\n",
    "\n",
    "Examples how to use [Stan](http://mc-stan.org) in Python with [PyStan](http://pystan.readthedocs.org). This notebook assumes basic knowledge of Bayesian inference and MCMC. The Stan models are stored in separate .stan-files."
   ]
  },
  {
   "cell_type": "markdown",
   "metadata": {},
   "source": [
    "## Setting up the PyStan environment\n",
    "\n",
    "We begin by importing the PyStan module as well at the matplotlib module for basic graphics facilities.\n",
    "\n",
    "We also import some utilities by Michael Betancourt and introduced in [PyStan workflow case study](http://mc-stan.org/users/documentation/case-studies/pystan_workflow.html) in module `stan_utility`."
   ]
  },
  {
   "cell_type": "code",
   "execution_count": 1,
   "metadata": {
    "collapsed": true
   },
   "outputs": [],
   "source": [
    "%matplotlib inline\n",
    "\n",
    "import numpy as np\n",
    "import matplotlib as mpl\n",
    "import matplotlib.pyplot as plt\n",
    "\n",
    "import pystan"
   ]
  },
  {
   "cell_type": "code",
   "execution_count": 2,
   "metadata": {
    "collapsed": true
   },
   "outputs": [],
   "source": [
    "# add utilities directory to path\n",
    "import os, sys\n",
    "util_path = os.path.abspath(os.path.join(os.path.pardir, 'utilities_and_data'))\n",
    "if util_path not in sys.path and os.path.exists(util_path):\n",
    "    sys.path.insert(0, util_path)\n",
    "\n",
    "# import from utilities\n",
    "import stan_utility"
   ]
  },
  {
   "cell_type": "code",
   "execution_count": 3,
   "metadata": {
    "collapsed": true
   },
   "outputs": [],
   "source": [
    "# edit default plot settings\n",
    "plt.rc('font', size=12)"
   ]
  },
  {
   "cell_type": "markdown",
   "metadata": {},
   "source": [
    "## Bernoulli model\n",
    "\n",
    "Toy data with sequence of failures (0) and successes (1). We would like to learn about the unknown probability of success."
   ]
  },
  {
   "cell_type": "code",
   "execution_count": 4,
   "metadata": {
    "collapsed": true
   },
   "outputs": [],
   "source": [
    "data = dict(N=10, y=[0,1,0,0,1,1,1,0,1,0])"
   ]
  },
  {
   "cell_type": "markdown",
   "metadata": {},
   "source": [
    "Bernoulli model with a Beta(1,1) (uniform) prior"
   ]
  },
  {
   "cell_type": "code",
   "execution_count": 5,
   "metadata": {
    "collapsed": false
   },
   "outputs": [
    {
     "name": "stdout",
     "output_type": "stream",
     "text": [
      "// Bernoulli model\n",
      "data {\n",
      "  int<lower=0> N;\n",
      "  int<lower=0,upper=1> y[N];\n",
      "}\n",
      "parameters {\n",
      "  real<lower=0,upper=1> theta;\n",
      "}\n",
      "model {\n",
      "  theta ~ beta(1,1);\n",
      "  y ~ bernoulli(theta);\n",
      "}\n",
      "\n"
     ]
    }
   ],
   "source": [
    "with open('bern.stan') as file:\n",
    "    print(file.read())"
   ]
  },
  {
   "cell_type": "markdown",
   "metadata": {},
   "source": [
    "Given the Stan program we then use the `compile_model` method of `stan_utility` module to compile the Stan program into a C++ executable. This utility function automatically saves a cached version of the compiled model to the disk for possible future use."
   ]
  },
  {
   "cell_type": "code",
   "execution_count": 6,
   "metadata": {
    "collapsed": false
   },
   "outputs": [
    {
     "name": "stderr",
     "output_type": "stream",
     "text": [
      "INFO:pystan:COMPILING THE C++ CODE FOR MODEL anon_model_4586f2dc76604848221fafe6413762a9 NOW.\n"
     ]
    }
   ],
   "source": [
    "model = stan_utility.compile_model('bern.stan')"
   ]
  },
  {
   "cell_type": "markdown",
   "metadata": {},
   "source": [
    "Getting the model again with the utility function uses the cached version automatically."
   ]
  },
  {
   "cell_type": "code",
   "execution_count": 7,
   "metadata": {
    "collapsed": false
   },
   "outputs": [
    {
     "name": "stdout",
     "output_type": "stream",
     "text": [
      "Using cached StanModel\n"
     ]
    }
   ],
   "source": [
    "del model\n",
    "model = stan_utility.compile_model('bern.stan')"
   ]
  },
  {
   "cell_type": "markdown",
   "metadata": {},
   "source": [
    "Sample form the posterior, show the summary and plot the histogram of the posterior draws. We recommend explicitly specifying the seed of Stan's random number generator, as we have done here, so that we can reproduce these exactly results in the future, at least when using the same machine, operating system, and interface. This is especially helpful for the more subtle pathologies that may not always be found, which results in seemingly stochastic behavior."
   ]
  },
  {
   "cell_type": "code",
   "execution_count": 8,
   "metadata": {
    "collapsed": false
   },
   "outputs": [
    {
     "name": "stdout",
     "output_type": "stream",
     "text": [
      "Inference for Stan model: anon_model_4586f2dc76604848221fafe6413762a9.\n",
      "4 chains, each with iter=2000; warmup=1000; thin=1; \n",
      "post-warmup draws per chain=1000, total post-warmup draws=4000.\n",
      "\n",
      "        mean se_mean     sd   2.5%    25%    50%    75%  97.5%  n_eff   Rhat\n",
      "theta    0.5  3.5e-3   0.14   0.23    0.4    0.5    0.6   0.77   1599    1.0\n",
      "lp__   -8.84    0.02   0.72 -10.91  -9.01  -8.55  -8.37  -8.32   1606    1.0\n",
      "\n",
      "Samples were drawn using NUTS at Mon Aug 28 08:58:34 2017.\n",
      "For each parameter, n_eff is a crude measure of effective sample size,\n",
      "and Rhat is the potential scale reduction factor on split chains (at \n",
      "convergence, Rhat=1).\n"
     ]
    },
    {
     "data": {
      "image/png": "[encoded data removed]",
      "text/plain": [
       "<matplotlib.figure.Figure at 0x7fadb3a890b8>"
      ]
     },
     "metadata": {},
     "output_type": "display_data"
    }
   ],
   "source": [
    "fit = model.sampling(data=data, seed=194838)\n",
    "print(fit)\n",
    "samples = fit.extract(permuted=True)\n",
    "plt.hist(samples['theta'], 50);"
   ]
  },
  {
   "cell_type": "markdown",
   "metadata": {},
   "source": [
    "## Binomial model\n",
    "\n",
    "Instead of sequence of 0's and 1's, we can summarize the data with the number of experiments and the number successes:"
   ]
  },
  {
   "cell_type": "code",
   "execution_count": 9,
   "metadata": {
    "collapsed": true
   },
   "outputs": [],
   "source": [
    "data = dict(N=10, y=8)"
   ]
  },
  {
   "cell_type": "markdown",
   "metadata": {},
   "source": [
    "And then we use Binomial model with Beta(1,1) prior for the probability of success."
   ]
  },
  {
   "cell_type": "code",
   "execution_count": 10,
   "metadata": {
    "collapsed": false
   },
   "outputs": [
    {
     "name": "stdout",
     "output_type": "stream",
     "text": [
      "// Binomial model with beta(1,1,) prior\n",
      "data {\n",
      "  int<lower=0> N;\n",
      "  int<lower=0> y;\n",
      "}\n",
      "parameters {\n",
      "  real<lower=0,upper=1> theta;\n",
      "}\n",
      "model {\n",
      "  theta ~ beta(1,1);\n",
      "  y ~ binomial(N,theta);\n",
      "}\n",
      "\n"
     ]
    }
   ],
   "source": [
    "with open('binom.stan') as file:\n",
    "    print(file.read())"
   ]
  },
  {
   "cell_type": "markdown",
   "metadata": {},
   "source": [
    "Sample from the posterior and plot the posterior. The histogram should look similar as in the Bernoulli case."
   ]
  },
  {
   "cell_type": "code",
   "execution_count": 11,
   "metadata": {
    "collapsed": false
   },
   "outputs": [
    {
     "name": "stdout",
     "output_type": "stream",
     "text": [
      "Using cached StanModel\n"
     ]
    },
    {
     "data": {
      "image/png": "[encoded data removed]",
      "text/plain": [
       "<matplotlib.figure.Figure at 0x7fadb3adbfd0>"
      ]
     },
     "metadata": {},
     "output_type": "display_data"
    }
   ],
   "source": [
    "model = stan_utility.compile_model('binom.stan')\n",
    "fit = model.sampling(data=data, seed=194838)\n",
    "samples = fit.extract(permuted=True)\n",
    "plt.hist(samples['theta'], 50);"
   ]
  },
  {
   "cell_type": "markdown",
   "metadata": {},
   "source": [
    "Re-run the model with a new data. Here the same compiled model object is reused."
   ]
  },
  {
   "cell_type": "code",
   "execution_count": 12,
   "metadata": {
    "collapsed": false
   },
   "outputs": [
    {
     "data": {
      "image/png": "[encoded data removed]",
      "text/plain": [
       "<matplotlib.figure.Figure at 0x7fadb3c00d68>"
      ]
     },
     "metadata": {},
     "output_type": "display_data"
    }
   ],
   "source": [
    "data = dict(N=10, y=10)\n",
    "fit = model.sampling(data=data, seed=194838)\n",
    "samples = fit.extract(permuted=True)\n",
    "plt.hist(samples['theta'], 50);"
   ]
  },
  {
   "cell_type": "markdown",
   "metadata": {},
   "source": [
    "## Comparison of two groups with Binomial\n",
    "\n",
    "An experiment was performed to estimate the effect of beta-blockers on mortality of cardiac patients. A group of patients were randomly assigned to treatment and control groups:\n",
    "\n",
    "- out of 674 patients receiving the control, 39 died\n",
    "- out of 680 receiving the treatment, 22 died"
   ]
  },
  {
   "cell_type": "code",
   "execution_count": 13,
   "metadata": {
    "collapsed": true
   },
   "outputs": [],
   "source": [
    "data = dict(N1=674, y1=39, N2=680, y2=22)"
   ]
  },
  {
   "cell_type": "markdown",
   "metadata": {},
   "source": [
    "To analyse whether the treatment is useful, we can use Binomial model for both groups and compute odds-ratio:"
   ]
  },
  {
   "cell_type": "code",
   "execution_count": 14,
   "metadata": {
    "collapsed": false
   },
   "outputs": [
    {
     "name": "stdout",
     "output_type": "stream",
     "text": [
      "//  Comparison of two groups with Binomial\n",
      "data {\n",
      "  int<lower=0> N1;\n",
      "  int<lower=0> y1;\n",
      "  int<lower=0> N2;\n",
      "  int<lower=0> y2;\n",
      "}\n",
      "parameters {\n",
      "  real<lower=0,upper=1> theta1;\n",
      "  real<lower=0,upper=1> theta2;\n",
      "}\n",
      "model {\n",
      "  theta1 ~ beta(1,1);\n",
      "  theta2 ~ beta(1,1);\n",
      "  y1 ~ binomial(N1,theta1);\n",
      "  y2 ~ binomial(N2,theta2);\n",
      "}\n",
      "generated quantities {\n",
      "  real oddsratio;\n",
      "  oddsratio = (theta2/(1-theta2))/(theta1/(1-theta1));\n",
      "}\n",
      "\n"
     ]
    }
   ],
   "source": [
    "with open('binom2.stan') as file:\n",
    "    print(file.read())"
   ]
  },
  {
   "cell_type": "markdown",
   "metadata": {},
   "source": [
    "Sample from the posterior and plot the posterior"
   ]
  },
  {
   "cell_type": "code",
   "execution_count": 15,
   "metadata": {
    "collapsed": false
   },
   "outputs": [
    {
     "name": "stdout",
     "output_type": "stream",
     "text": [
      "Using cached StanModel\n"
     ]
    },
    {
     "data": {
      "image/png": "[encoded data removed]",
      "text/plain": [
       "<matplotlib.figure.Figure at 0x7fadb3b75080>"
      ]
     },
     "metadata": {},
     "output_type": "display_data"
    }
   ],
   "source": [
    "model = stan_utility.compile_model('binom2.stan')\n",
    "fit = model.sampling(data=data, seed=194838)\n",
    "samples = fit.extract(permuted=True)\n",
    "plt.hist(samples['oddsratio'], 50);"
   ]
  },
  {
   "cell_type": "markdown",
   "metadata": {},
   "source": [
    "## Linear Gaussian model\n",
    "\n",
    "The following file has Kilpisjärvi summer month temperatures 1952-2013:"
   ]
  },
  {
   "cell_type": "code",
   "execution_count": 16,
   "metadata": {
    "collapsed": true
   },
   "outputs": [],
   "source": [
    "data_path = os.path.abspath(\n",
    "    os.path.join(\n",
    "        os.path.pardir,\n",
    "        'utilities_and_data',\n",
    "        'kilpisjarvi-summer-temp.csv'\n",
    "    )\n",
    ")\n",
    "d = np.loadtxt(data_path, dtype=np.double, delimiter=';', skiprows=1)\n",
    "x = d[:, 0]\n",
    "y = d[:, 4]\n",
    "N = len(x)\n",
    "xpred = 2016"
   ]
  },
  {
   "cell_type": "markdown",
   "metadata": {},
   "source": [
    "Plot the data"
   ]
  },
  {
   "cell_type": "code",
   "execution_count": 17,
   "metadata": {
    "collapsed": false
   },
   "outputs": [
    {
     "data": {
      "image/png": "[encoded data removed]",
      "text/plain": [
       "<matplotlib.figure.Figure at 0x7fadb3fabdd8>"
      ]
     },
     "metadata": {},
     "output_type": "display_data"
    }
   ],
   "source": [
    "# make slightly wider figure\n",
    "wide_figsize = plt.rcParams['figure.figsize'].copy()\n",
    "wide_figsize[0] *= 1.4\n",
    "plt.figure(figsize=wide_figsize)\n",
    "plt.scatter(x, y)\n",
    "plt.xlabel('year')\n",
    "plt.ylabel('summer temperature at Kilpisjarvi');"
   ]
  },
  {
   "cell_type": "markdown",
   "metadata": {},
   "source": [
    "To analyse whether the average summer month temperature is rising, we use a linear model with Gaussian model for the unexplained variation. \n",
    "\n",
    "### Gaussian linear model with adjustable priors\n",
    "\n",
    "The folloing Stan code allows also setting hyperparameter values as data allowing easier way to use different priors in different analyses:"
   ]
  },
  {
   "cell_type": "code",
   "execution_count": 18,
   "metadata": {
    "collapsed": false
   },
   "outputs": [
    {
     "name": "stdout",
     "output_type": "stream",
     "text": [
      "// Gaussian linear model with adjustable priors\n",
      "data {\n",
      "  int<lower=0> N; // number of data points\n",
      "  vector[N] x; //\n",
      "  vector[N] y; //\n",
      "  real xpred; // input location for prediction\n",
      "  real pmualpha; // prior mean for alpha\n",
      "  real psalpha;  // prior std for alpha\n",
      "  real pmubeta;  // prior mean for beta\n",
      "  real psbeta;   // prior std for beta\n",
      "}\n",
      "parameters {\n",
      "  real alpha;\n",
      "  real beta;\n",
      "  real<lower=0> sigma;\n",
      "}\n",
      "transformed parameters {\n",
      "  vector[N] mu;\n",
      "  mu = alpha + beta*x;\n",
      "}\n",
      "model {\n",
      "  alpha ~ normal(pmualpha, psalpha);\n",
      "  beta ~ normal(pmubeta, psbeta);\n",
      "  y ~ normal(mu, sigma);\n",
      "}\n",
      "generated quantities {\n",
      "  real ypred;\n",
      "  vector[N] log_lik;\n",
      "  ypred = normal_rng(alpha + beta*xpred, sigma);\n",
      "  for (i in 1:N)\n",
      "    log_lik[i] = normal_lpdf(y[i] | mu[i], sigma);\n",
      "}\n",
      "\n"
     ]
    }
   ],
   "source": [
    "with open('lin.stan') as file:\n",
    "    print(file.read())"
   ]
  },
  {
   "cell_type": "markdown",
   "metadata": {},
   "source": [
    "Create a list with data and priors:"
   ]
  },
  {
   "cell_type": "code",
   "execution_count": 19,
   "metadata": {
    "collapsed": true
   },
   "outputs": [],
   "source": [
    "data = dict(\n",
    "    N = N,\n",
    "    x = x,\n",
    "    y = y,\n",
    "    xpred = xpred,\n",
    "    pmualpha = y.mean(),     # centered\n",
    "    psalpha  = 100,          # weakly informative prior\n",
    "    pmubeta  = 0,            # a priori increase and decrese as likely\n",
    "    psbeta   = (.1--.1)/6.0  # avg temp probably does not increase more than 1\n",
    "                             # degree per 10 years\n",
    ")"
   ]
  },
  {
   "cell_type": "markdown",
   "metadata": {},
   "source": [
    "Run Stan"
   ]
  },
  {
   "cell_type": "code",
   "execution_count": 20,
   "metadata": {
    "collapsed": false
   },
   "outputs": [
    {
     "name": "stdout",
     "output_type": "stream",
     "text": [
      "Using cached StanModel\n"
     ]
    }
   ],
   "source": [
    "model = stan_utility.compile_model('lin.stan')\n",
    "fit = model.sampling(data=data, seed=194838)\n",
    "samples = fit.extract(permuted=True)"
   ]
  },
  {
   "cell_type": "markdown",
   "metadata": {},
   "source": [
    "Check the `n_eff` and `Rhat`"
   ]
  },
  {
   "cell_type": "code",
   "execution_count": 21,
   "metadata": {
    "collapsed": false
   },
   "outputs": [
    {
     "name": "stdout",
     "output_type": "stream",
     "text": [
      "Inference for Stan model: anon_model_6d95d5cbf9b9fb7d99a793b066a7bb72.\n",
      "4 chains, each with iter=2000; warmup=1000; thin=1; \n",
      "post-warmup draws per chain=1000, total post-warmup draws=4000.\n",
      "\n",
      "              mean se_mean     sd   2.5%    25%    50%    75%  97.5%  n_eff   Rhat\n",
      "alpha       -28.05    0.45  15.28 -58.49 -38.36 -28.05 -17.65   1.44   1174    1.0\n",
      "beta          0.02  2.2e-4 7.7e-3 4.0e-3   0.01   0.02   0.02   0.03   1175    1.0\n",
      "sigma         1.13  2.7e-3   0.11   0.94   1.06   1.13    1.2   1.36   1476    1.0\n",
      "mu[0]         8.74  7.3e-3   0.28   8.19   8.56   8.74   8.93   9.27   1408    1.0\n",
      "mu[1]         8.76  7.1e-3   0.27   8.22   8.58   8.76   8.94   9.28   1423    1.0\n",
      "mu[2]         8.77  6.9e-3   0.26   8.26    8.6   8.78   8.95   9.28   1440    1.0\n",
      "mu[3]         8.79  6.7e-3   0.26   8.29   8.63   8.79   8.97   9.29   1458    1.0\n",
      "mu[4]         8.81  6.5e-3   0.25   8.32   8.65   8.81   8.98   9.29   1478    1.0\n",
      "mu[5]         8.83  6.3e-3   0.24   8.35   8.67   8.83    9.0    9.3   1500    1.0\n",
      "mu[6]         8.85  6.1e-3   0.24   8.38   8.69   8.85   9.01   9.31   1524    1.0\n",
      "mu[7]         8.87  5.9e-3   0.23   8.41   8.72   8.87   9.03   9.32   1551    1.0\n",
      "mu[8]         8.89  5.7e-3   0.23   8.44   8.74   8.89   9.04   9.32   1581    1.0\n",
      "mu[9]         8.91  5.5e-3   0.22   8.47   8.76   8.91   9.06   9.33   1613    1.0\n",
      "mu[10]        8.93  5.3e-3   0.21    8.5   8.78   8.93   9.08   9.34   1650    1.0\n",
      "mu[11]        8.94  5.1e-3   0.21   8.53   8.81   8.95   9.09   9.35   1690    1.0\n",
      "mu[12]        8.96  4.9e-3    0.2   8.56   8.83   8.96    9.1   9.36   1736    1.0\n",
      "mu[13]        8.98  4.7e-3    0.2   8.59   8.85   8.98   9.12   9.37   1786    1.0\n",
      "mu[14]         9.0  4.5e-3   0.19   8.62   8.87    9.0   9.13   9.37   1843    1.0\n",
      "mu[15]        9.02  4.3e-3   0.19   8.65    8.9   9.02   9.15   9.38   1907    1.0\n",
      "mu[16]        9.04  4.1e-3   0.18   8.67   8.92   9.04   9.16   9.39   1978    1.0\n",
      "mu[17]        9.06  3.9e-3   0.18   8.71   8.94   9.06   9.18    9.4   2058    1.0\n",
      "mu[18]        9.08  3.8e-3   0.17   8.73   8.96   9.08   9.19   9.41   2148    1.0\n",
      "mu[19]         9.1  3.6e-3   0.17   8.76   8.98    9.1   9.21   9.42   2249    1.0\n",
      "mu[20]        9.11  3.4e-3   0.17   8.79    9.0   9.12   9.23   9.44   2361    1.0\n",
      "mu[21]        9.13  3.3e-3   0.16   8.82   9.02   9.14   9.24   9.45   2485    1.0\n",
      "mu[22]        9.15  3.1e-3   0.16   8.84   9.04   9.15   9.26   9.46   2622    1.0\n",
      "mu[23]        9.17  3.0e-3   0.16   8.86   9.07   9.17   9.28   9.47   2770    1.0\n",
      "mu[24]        9.19  2.6e-3   0.15   8.89   9.09   9.19   9.29   9.49   3580    1.0\n",
      "mu[25]        9.21  2.5e-3   0.15   8.91   9.11   9.21   9.31    9.5   3754    1.0\n",
      "mu[26]        9.23  2.4e-3   0.15   8.94   9.13   9.23   9.33   9.52   3925    1.0\n",
      "mu[27]        9.25  2.3e-3   0.15   8.96   9.15   9.25   9.35   9.53   4000    1.0\n",
      "mu[28]        9.26  2.3e-3   0.15   8.98   9.17   9.27   9.36   9.55   4000    1.0\n",
      "mu[29]        9.28  2.3e-3   0.15    9.0   9.19   9.29   9.38   9.57   4000    1.0\n",
      "mu[30]         9.3  2.3e-3   0.15   9.02    9.2   9.31    9.4   9.58   4000    1.0\n",
      "mu[31]        9.32  2.3e-3   0.15   9.04   9.22   9.33   9.42    9.6   4000    1.0\n",
      "mu[32]        9.34  2.3e-3   0.15   9.05   9.24   9.34   9.44   9.62   4000    1.0\n",
      "mu[33]        9.36  2.3e-3   0.15   9.07   9.26   9.36   9.46   9.64   4000    1.0\n",
      "mu[34]        9.38  2.3e-3   0.15   9.09   9.28   9.38   9.48   9.66   4000    1.0\n",
      "mu[35]         9.4  2.4e-3   0.15    9.1   9.29    9.4    9.5   9.68   4000    1.0\n",
      "mu[36]        9.42  2.5e-3   0.15   9.12   9.31   9.42   9.52   9.71   3570    1.0\n",
      "mu[37]        9.43  2.6e-3   0.15   9.13   9.33   9.44   9.54   9.73   3392    1.0\n",
      "mu[38]        9.45  2.8e-3   0.16   9.14   9.35   9.46   9.56   9.76   3217    1.0\n",
      "mu[39]        9.47  2.9e-3   0.16   9.16   9.36   9.48   9.58   9.78   3050    1.0\n",
      "mu[40]        9.49  3.0e-3   0.16   9.17   9.38   9.49    9.6   9.81   2893    1.0\n",
      "mu[41]        9.51  3.2e-3   0.17   9.18    9.4   9.51   9.62   9.83   2748    1.0\n",
      "mu[42]        9.53  3.3e-3   0.17   9.19   9.42   9.53   9.64   9.86   2617    1.0\n",
      "mu[43]        9.55  3.5e-3   0.18    9.2   9.43   9.55   9.66   9.88   2498    1.0\n",
      "mu[44]        9.57  3.7e-3   0.18   9.21   9.45   9.57   9.68   9.91   2391    1.0\n",
      "mu[45]        9.59  3.8e-3   0.18   9.21   9.46   9.59    9.7   9.94   2296    1.0\n",
      "mu[46]         9.6  4.0e-3   0.19   9.22   9.48   9.61   9.73   9.97   2210    1.0\n",
      "mu[47]        9.62  4.2e-3   0.19   9.23   9.49   9.62   9.75   10.0   2134    1.0\n",
      "mu[48]        9.64  4.5e-3    0.2   9.24   9.51   9.64   9.77  10.03   1963    1.0\n",
      "mu[49]        9.66  4.7e-3    0.2   9.25   9.52   9.66   9.79  10.06   1904    1.0\n",
      "mu[50]        9.68  4.9e-3   0.21   9.26   9.54   9.68   9.82  10.09   1849    1.0\n",
      "mu[51]         9.7  5.1e-3   0.22   9.27   9.56    9.7   9.84  10.12   1800    1.0\n",
      "mu[52]        9.72  5.3e-3   0.22   9.27   9.57   9.72   9.86  10.15   1756    1.0\n",
      "mu[53]        9.74  5.5e-3   0.23   9.28   9.59   9.74   9.89  10.18   1716    1.0\n",
      "mu[54]        9.75  5.7e-3   0.23   9.29    9.6   9.76   9.91  10.21   1680    1.0\n",
      "mu[55]        9.77  5.9e-3   0.24   9.29   9.62   9.78   9.93  10.24   1647    1.0\n",
      "mu[56]        9.79  6.1e-3   0.25    9.3   9.63   9.79   9.95  10.27   1617    1.0\n",
      "mu[57]        9.81  6.3e-3   0.25   9.31   9.65   9.81   9.97   10.3   1590    1.0\n",
      "mu[58]        9.83  6.5e-3   0.26   9.31   9.66   9.83   10.0  10.33   1565    1.0\n",
      "mu[59]        9.85  6.7e-3   0.26   9.32   9.68   9.85  10.02  10.37   1543    1.0\n",
      "mu[60]        9.87  6.9e-3   0.27   9.33   9.69   9.87  10.04   10.4   1522    1.0\n",
      "mu[61]        9.89  7.2e-3   0.28   9.33   9.71   9.89  10.07  10.43   1503    1.0\n",
      "ypred         9.96    0.02   1.18   7.69   9.17   9.94  10.75  12.29   3897    1.0\n",
      "log_lik[0]   -1.14  3.4e-3   0.13  -1.44  -1.22  -1.13  -1.05  -0.93   1487    1.0\n",
      "log_lik[1]   -2.91    0.01   0.53  -4.05  -3.25  -2.86  -2.53  -2.03   1529    1.0\n",
      "log_lik[2]   -1.22  3.8e-3   0.15  -1.56  -1.31   -1.2  -1.12  -0.98   1519    1.0\n",
      "log_lik[3]   -1.26  4.0e-3   0.15   -1.6  -1.35  -1.24  -1.14   -1.0   1529    1.0\n",
      "log_lik[4]   -1.27  3.9e-3   0.15   -1.6  -1.36  -1.25  -1.15  -1.01   1547    1.0\n",
      "log_lik[5]   -1.57  5.5e-3   0.22  -2.05  -1.71  -1.55  -1.42   -1.2   1575    1.0\n",
      "log_lik[6]   -1.09  2.6e-3    0.1  -1.31  -1.15  -1.08  -1.01  -0.89   1544    1.0\n",
      "log_lik[7]   -1.08  2.6e-3    0.1  -1.29  -1.15  -1.08  -1.01  -0.89   1519    1.0\n",
      "log_lik[8]   -2.84    0.01   0.45   -3.8  -3.13   -2.8  -2.51  -2.09   1643    1.0\n",
      "log_lik[9]   -1.63  5.1e-3   0.21  -2.09  -1.76  -1.61  -1.48  -1.28   1706    1.0\n",
      "log_lik[10]  -1.76  5.5e-3   0.23  -2.25   -1.9  -1.74   -1.6  -1.37   1716    1.0\n",
      "log_lik[11]  -1.06  2.5e-3    0.1  -1.26  -1.13  -1.06   -1.0  -0.88   1520    1.0\n",
      "log_lik[12]  -1.23  3.0e-3   0.12  -1.49  -1.31  -1.22  -1.14  -1.02   1723    1.0\n",
      "log_lik[13]  -2.32  7.3e-3   0.31   -3.0  -2.52   -2.3  -2.11  -1.79   1771    1.0\n",
      "log_lik[14]  -1.09  2.5e-3    0.1  -1.29  -1.15  -1.09  -1.02   -0.9   1566    1.0\n",
      "log_lik[15]  -1.07  2.4e-3    0.1  -1.27  -1.13  -1.07  -1.01  -0.89   1559    1.0\n",
      "log_lik[16]  -1.88  4.8e-3   0.22  -2.35  -2.01  -1.86  -1.73   -1.5   1981    1.0\n",
      "log_lik[17]  -1.88  4.7e-3   0.21  -2.35  -2.02  -1.87  -1.72  -1.53   2087    1.0\n",
      "log_lik[18]  -2.53  7.2e-3   0.32  -3.19  -2.74   -2.5  -2.29  -1.98   1972    1.0\n",
      "log_lik[19]  -1.07  2.4e-3   0.09  -1.26  -1.13  -1.06   -1.0  -0.89   1550    1.0\n",
      "log_lik[20]  -2.96  8.8e-3   0.39  -3.77  -3.21  -2.93  -2.68  -2.29   1951    1.0\n",
      "log_lik[21]  -1.35  2.4e-3   0.12   -1.6  -1.42  -1.34  -1.27  -1.14   2346    1.0\n",
      "log_lik[22]  -1.41  2.4e-3   0.12  -1.67  -1.49   -1.4  -1.32  -1.19   2547    1.0\n",
      "log_lik[23]  -4.12    0.01   0.58  -5.43  -4.47  -4.08   -3.7  -3.12   1783    1.0\n",
      "log_lik[24]  -1.44  2.3e-3   0.12   -1.7  -1.52  -1.43  -1.35  -1.22   2795    1.0\n",
      "log_lik[25]  -1.31  2.1e-3   0.11  -1.53  -1.38  -1.31  -1.23  -1.12   2564    1.0\n",
      "log_lik[26]  -1.08  2.4e-3   0.09  -1.27  -1.14  -1.07  -1.01   -0.9   1574    1.0\n",
      "log_lik[27]  -1.22  2.1e-3    0.1  -1.42  -1.28  -1.21  -1.15  -1.03   2192    1.0\n",
      "log_lik[28]  -1.76  2.5e-3   0.16  -2.09  -1.87  -1.75  -1.64  -1.48   3982    1.0\n",
      "log_lik[29]  -2.18  4.5e-3   0.23  -2.68  -2.32  -2.16  -2.02  -1.79   2584    1.0\n",
      "log_lik[30]  -2.07  4.0e-3   0.21  -2.53  -2.21  -2.06  -1.93  -1.72   2743    1.0\n",
      "log_lik[31]  -1.64  2.2e-3   0.14  -1.95  -1.74  -1.64  -1.54   -1.4   4000    1.0\n",
      "log_lik[32]   -1.4  1.8e-3   0.11  -1.63  -1.47   -1.4  -1.32   -1.2   4000    1.0\n",
      "log_lik[33]  -1.09  2.3e-3   0.09  -1.29  -1.16  -1.09  -1.03  -0.91   1631    1.0\n",
      "log_lik[34]  -1.05  2.4e-3   0.09  -1.24  -1.12  -1.05  -0.99  -0.87   1495    1.0\n",
      "log_lik[35]  -2.81  7.4e-3   0.34  -3.56  -3.02  -2.78  -2.57  -2.22   2124    1.0\n",
      "log_lik[36]  -1.36  2.1e-3   0.11  -1.59  -1.43  -1.35  -1.28  -1.16   2866    1.0\n",
      "log_lik[37]  -1.06  2.4e-3   0.09  -1.25  -1.12  -1.06   -1.0  -0.88   1510    1.0\n",
      "log_lik[38]  -1.33  2.2e-3   0.11  -1.57  -1.41  -1.33  -1.25  -1.13   2600    1.0\n",
      "log_lik[39]  -1.09  2.4e-3    0.1  -1.29  -1.16  -1.09  -1.03  -0.91   1607    1.0\n",
      "log_lik[40]  -1.15  2.2e-3    0.1  -1.34  -1.21  -1.14  -1.08  -0.97   1912    1.0\n",
      "log_lik[41]  -1.12  2.3e-3    0.1  -1.31  -1.18  -1.12  -1.05  -0.94   1771    1.0\n",
      "log_lik[42]  -1.05  2.4e-3   0.09  -1.24  -1.11  -1.05  -0.99  -0.87   1487    1.0\n",
      "log_lik[43]  -1.34  2.5e-3   0.12   -1.6  -1.41  -1.33  -1.25  -1.12   2428    1.0\n",
      "log_lik[44]   -1.1  2.5e-3    0.1   -1.3  -1.16  -1.09  -1.03  -0.91   1594    1.0\n",
      "log_lik[45]  -1.39  2.9e-3   0.14  -1.68  -1.47  -1.37  -1.29  -1.14   2230    1.0\n",
      "log_lik[46]  -1.07  2.4e-3    0.1  -1.26  -1.13  -1.07   -1.0  -0.89   1554    1.0\n",
      "log_lik[47]  -1.21  2.6e-3   0.11  -1.45  -1.28   -1.2  -1.13  -1.01   1887    1.0\n",
      "log_lik[48]  -1.22  2.7e-3   0.12  -1.47  -1.29  -1.21  -1.14  -1.01   1950    1.0\n",
      "log_lik[49]  -1.06  2.5e-3    0.1  -1.25  -1.12  -1.05  -0.99  -0.87   1484    1.0\n",
      "log_lik[50]  -2.24  6.9e-3   0.31  -2.91  -2.43  -2.21  -2.02  -1.71   1972    1.0\n",
      "log_lik[51]  -1.46  4.0e-3   0.17  -1.83  -1.56  -1.44  -1.34  -1.16   1871    1.0\n",
      "log_lik[52]  -1.12  2.8e-3   0.11  -1.35  -1.18  -1.11  -1.04  -0.92   1578    1.0\n",
      "log_lik[53]  -1.51  4.5e-3   0.19  -1.93  -1.63  -1.49  -1.37  -1.18   1801    1.0\n",
      "log_lik[54]  -1.23  3.4e-3   0.14  -1.54  -1.31  -1.21  -1.13  -0.99   1667    1.0\n",
      "log_lik[55]  -1.17  3.2e-3   0.13  -1.46  -1.25  -1.16  -1.08  -0.95   1607    1.0\n",
      "log_lik[56]  -1.46  4.6e-3   0.19  -1.89  -1.57  -1.44  -1.32  -1.14   1795    1.0\n",
      "log_lik[57]  -1.06  2.6e-3    0.1  -1.26  -1.13  -1.06   -1.0  -0.88   1482    1.0\n",
      "log_lik[58]  -1.49  5.1e-3   0.21  -1.97  -1.61  -1.47  -1.34  -1.15   1743    1.0\n",
      "log_lik[59]  -1.43  5.0e-3    0.2  -1.89  -1.54   -1.4  -1.28   -1.1   1619    1.0\n",
      "log_lik[60]  -1.71  6.7e-3   0.28  -2.34  -1.88  -1.68  -1.52  -1.27   1696    1.0\n",
      "log_lik[61]  -1.66  6.7e-3   0.27  -2.24  -1.81  -1.63  -1.47  -1.22   1595    1.0\n",
      "lp__        -38.03    0.03    1.2 -41.13  -38.6 -37.74 -37.15 -36.64   1258    1.0\n",
      "\n",
      "Samples were drawn using NUTS at Mon Aug 28 08:58:42 2017.\n",
      "For each parameter, n_eff is a crude measure of effective sample size,\n",
      "and Rhat is the potential scale reduction factor on split chains (at \n",
      "convergence, Rhat=1).\n"
     ]
    }
   ],
   "source": [
    "print(fit)"
   ]
  },
  {
   "cell_type": "markdown",
   "metadata": {
    "collapsed": true
   },
   "source": [
    "Check the treedepth, E-BFMI, and divergences"
   ]
  },
  {
   "cell_type": "code",
   "execution_count": 22,
   "metadata": {
    "collapsed": false
   },
   "outputs": [
    {
     "name": "stdout",
     "output_type": "stream",
     "text": [
      "42 of 4000 iterations saturated the maximum tree depth of 10 (1.05%)\n",
      "Run again with max_depth set to a larger value to avoid saturation\n",
      "0.0 of 4000 iterations ended with a divergence (0.0%)\n"
     ]
    }
   ],
   "source": [
    "stan_utility.check_treedepth(fit)\n",
    "stan_utility.check_energy(fit)\n",
    "stan_utility.check_div(fit)"
   ]
  },
  {
   "cell_type": "markdown",
   "metadata": {},
   "source": [
    "We get a warning that several iterations that saturated the maximum treedepth\". The reason for this is a very strong posterior correlation between alpha and beta as shown in the next plot. This doesn't imvalidate the results, but leads to suboptimal performance. We'll later look at alternative which reduces the posterior correlation. The following figure shows the strong posterior correlation in the current case."
   ]
  },
  {
   "cell_type": "code",
   "execution_count": 23,
   "metadata": {
    "collapsed": false
   },
   "outputs": [
    {
     "data": {
      "image/png": "[encoded data removed]",
      "text/plain": [
       "<matplotlib.figure.Figure at 0x7fadb3b4a828>"
      ]
     },
     "metadata": {},
     "output_type": "display_data"
    }
   ],
   "source": [
    "samples = fit.extract(permuted=True)\n",
    "# preview 500 posterior samples of (alpha, beta)\n",
    "plt.scatter(samples['alpha'][:500], samples['beta'][:500], 5)\n",
    "plt.xlabel('alpha')\n",
    "plt.ylabel('beta');"
   ]
  },
  {
   "cell_type": "markdown",
   "metadata": {},
   "source": [
    "Compute the probability that the summer temperature is increasing."
   ]
  },
  {
   "cell_type": "code",
   "execution_count": 24,
   "metadata": {
    "collapsed": false
   },
   "outputs": [
    {
     "name": "stdout",
     "output_type": "stream",
     "text": [
      "Pr(beta > 0) = 0.99275\n"
     ]
    }
   ],
   "source": [
    "print('Pr(beta > 0) = {}'.format(np.mean(samples['beta'] > 0)))"
   ]
  },
  {
   "cell_type": "markdown",
   "metadata": {},
   "source": [
    "Plot the data, the model fit and prediction for year 2016."
   ]
  },
  {
   "cell_type": "code",
   "execution_count": 25,
   "metadata": {
    "collapsed": false
   },
   "outputs": [
    {
     "data": {
      "image/png": "[encoded data removed]",
      "text/plain": [
       "<matplotlib.figure.Figure at 0x7fadb3b4aef0>"
      ]
     },
     "metadata": {},
     "output_type": "display_data"
    }
   ],
   "source": [
    "# make slightly wider figure of 3 plots\n",
    "figsize = plt.rcParams['figure.figsize'].copy()\n",
    "figsize[0] *= 1.4  # width\n",
    "figsize[1] *= 2.5  # height\n",
    "fig, axes = plt.subplots(3, 1, figsize=figsize)\n",
    "\n",
    "# plot 1: scatterplot and lines\n",
    "color_scatter = 'C0'  # 'C0' for default color #0\n",
    "color_line = 'C1'     # 'C1' for default color #1\n",
    "# lighten color_line\n",
    "color_shade = (\n",
    "    1 - 0.1*(1 - np.array(mpl.colors.to_rgb(color_line)))\n",
    ")\n",
    "# plot\n",
    "ax = axes[0]\n",
    "ax.fill_between(\n",
    "    x,\n",
    "    np.percentile(samples['mu'], 5, axis=0),\n",
    "    np.percentile(samples['mu'], 95, axis=0),\n",
    "    color=color_shade\n",
    ")\n",
    "ax.plot(\n",
    "    x,\n",
    "    np.percentile(samples['mu'], 50, axis=0),\n",
    "    color=color_line,\n",
    "    linewidth=1\n",
    ")\n",
    "ax.scatter(x, y, 5, color=color_scatter)\n",
    "ax.set_xlabel('year')\n",
    "ax.set_ylabel('summer temperature at Kilpisjarvi')\n",
    "ax.set_xlim((1952, 2013))\n",
    "\n",
    "# plot 2: histogram\n",
    "ax = axes[1]\n",
    "ax.hist(samples['beta'], 50)\n",
    "ax.set_xlabel('beta')\n",
    "\n",
    "# plot 3: histogram\n",
    "ax = axes[2]\n",
    "ax.hist(samples['ypred'], 50)\n",
    "ax.set_xlabel('y-prediction for x={}'.format(xpred))\n",
    "\n",
    "# make figure compact\n",
    "fig.tight_layout();"
   ]
  },
  {
   "cell_type": "markdown",
   "metadata": {},
   "source": [
    "### Gaussian linear model with standardized data\n",
    "\n",
    "In the above we used the unnormalized data and as x values are far away from zero, this will cause very strong posterior dependency between alpha and beta (did you use ShinyStan for the above model?). The strong posterior dependency can be removed by normalizing the data to have zero mean. The following Stan code makes it in Stan. In generated quantities we do correspnding transformation back to the original scale."
   ]
  },
  {
   "cell_type": "code",
   "execution_count": 26,
   "metadata": {
    "collapsed": false,
    "scrolled": true
   },
   "outputs": [
    {
     "name": "stdout",
     "output_type": "stream",
     "text": [
      "// Gaussian linear model with standardized data\n",
      "data {\n",
      "  int<lower=0> N; // number of data points\n",
      "  vector[N] x; //\n",
      "  vector[N] y; //\n",
      "  real xpred; // input location for prediction\n",
      "}\n",
      "transformed data {\n",
      "  vector[N] x_std;\n",
      "  vector[N] y_std;\n",
      "  x_std = (x - mean(x)) / sd(x);\n",
      "  y_std = (y - mean(y)) / sd(y);\n",
      "}\n",
      "parameters {\n",
      "  real alpha;\n",
      "  real beta;\n",
      "  real<lower=0> sigma_std;\n",
      "}\n",
      "transformed parameters {\n",
      "  vector[N] mu_std;\n",
      "  mu_std = alpha + beta*x_std;\n",
      "}\n",
      "model {\n",
      "  alpha ~ normal(0, 1);\n",
      "  beta ~ normal(0, 1);\n",
      "  y_std ~ normal(mu_std, sigma_std);\n",
      "}\n",
      "generated quantities {\n",
      "  vector[N] mu;\n",
      "  real<lower=0> sigma;\n",
      "  real ypred;\n",
      "  vector[N] log_lik;\n",
      "  mu = mu_std*sd(y) + mean(y);\n",
      "  sigma = sigma_std*sd(y);\n",
      "  ypred = normal_rng((alpha + beta*xpred)*sd(y)+mean(y), sigma*sd(y));\n",
      "  for (i in 1:N)\n",
      "    log_lik[i] = normal_lpdf(y[i] | mu[i], sigma);\n",
      "}\n",
      "\n"
     ]
    }
   ],
   "source": [
    "with open('lin_std.stan') as file:\n",
    "    print(file.read())"
   ]
  },
  {
   "cell_type": "markdown",
   "metadata": {},
   "source": [
    "Run Stan"
   ]
  },
  {
   "cell_type": "code",
   "execution_count": 27,
   "metadata": {
    "collapsed": false
   },
   "outputs": [
    {
     "name": "stdout",
     "output_type": "stream",
     "text": [
      "Using cached StanModel\n"
     ]
    }
   ],
   "source": [
    "model = stan_utility.compile_model('lin_std.stan')\n",
    "fit = model.sampling(data=data, seed=194838)\n",
    "samples = fit.extract(permuted=True)"
   ]
  },
  {
   "cell_type": "markdown",
   "metadata": {},
   "source": [
    "Check the `n_eff` and `Rhat`"
   ]
  },
  {
   "cell_type": "code",
   "execution_count": 28,
   "metadata": {
    "collapsed": false,
    "scrolled": false
   },
   "outputs": [
    {
     "name": "stdout",
     "output_type": "stream",
     "text": [
      "Inference for Stan model: anon_model_66c6fe58314dd2305225ac4c980232cb.\n",
      "4 chains, each with iter=2000; warmup=1000; thin=1; \n",
      "post-warmup draws per chain=1000, total post-warmup draws=4000.\n",
      "\n",
      "              mean se_mean     sd   2.5%    25%    50%    75%  97.5%  n_eff   Rhat\n",
      "alpha       6.4e-5  1.9e-3   0.12  -0.24  -0.08-9.5e-5   0.08   0.24   4000    1.0\n",
      "beta          0.31  2.0e-3   0.13   0.07   0.23   0.31    0.4   0.56   4000    1.0\n",
      "sigma_std     0.98  1.6e-3   0.09   0.82   0.91   0.97   1.03   1.18   3149    1.0\n",
      "mu_std[0]    -0.53  3.8e-3   0.24  -1.01   -0.7  -0.53  -0.36  -0.05   4000    1.0\n",
      "mu_std[1]    -0.51  3.7e-3   0.24  -0.98  -0.68  -0.51  -0.35  -0.04   4000    1.0\n",
      "mu_std[2]     -0.5  3.7e-3   0.23  -0.95  -0.66  -0.49  -0.34  -0.04   4000    1.0\n",
      "mu_std[3]    -0.48  3.6e-3   0.23  -0.92  -0.63  -0.47  -0.32  -0.03   4000    1.0\n",
      "mu_std[4]    -0.46  3.5e-3   0.22  -0.89  -0.61  -0.46  -0.31  -0.03   4000    1.0\n",
      "mu_std[5]    -0.44  3.4e-3   0.21  -0.86  -0.59  -0.44   -0.3  -0.03   4000    1.0\n",
      "mu_std[6]    -0.43  3.3e-3   0.21  -0.83  -0.57  -0.42  -0.28  -0.02   4000    1.0\n",
      "mu_std[7]    -0.41  3.2e-3    0.2   -0.8  -0.55   -0.4  -0.27  -0.02   4000    1.0\n",
      "mu_std[8]    -0.39  3.1e-3    0.2  -0.78  -0.53  -0.39  -0.26-9.7e-3   4000    1.0\n",
      "mu_std[9]    -0.37  3.0e-3   0.19  -0.75  -0.51  -0.37  -0.24-2.5e-3   4000    1.0\n",
      "mu_std[10]   -0.36  2.9e-3   0.19  -0.72  -0.49  -0.36  -0.23 3.2e-3   4000    1.0\n",
      "mu_std[11]   -0.34  2.9e-3   0.18  -0.69  -0.47  -0.34  -0.22   0.01   4000    1.0\n",
      "mu_std[12]   -0.32  2.8e-3   0.18  -0.66  -0.45  -0.32   -0.2   0.02   4000    1.0\n",
      "mu_std[13]    -0.3  2.7e-3   0.17  -0.63  -0.43   -0.3  -0.19   0.03   4000    1.0\n",
      "mu_std[14]   -0.29  2.6e-3   0.17  -0.61   -0.4  -0.29  -0.17   0.04   4000    1.0\n",
      "mu_std[15]   -0.27  2.6e-3   0.16  -0.58  -0.38  -0.27  -0.16   0.05   4000    1.0\n",
      "mu_std[16]   -0.25  2.5e-3   0.16  -0.56  -0.36  -0.25  -0.14   0.05   4000    1.0\n",
      "mu_std[17]   -0.23  2.4e-3   0.15  -0.53  -0.34  -0.23  -0.13   0.06   4000    1.0\n",
      "mu_std[18]   -0.22  2.3e-3   0.15   -0.5  -0.32  -0.22  -0.12   0.07   4000    1.0\n",
      "mu_std[19]    -0.2  2.3e-3   0.14  -0.48   -0.3   -0.2   -0.1   0.08   4000    1.0\n",
      "mu_std[20]   -0.18  2.2e-3   0.14  -0.45  -0.28  -0.18  -0.09   0.09   4000    1.0\n",
      "mu_std[21]   -0.17  2.2e-3   0.14  -0.43  -0.26  -0.17  -0.07    0.1   4000    1.0\n",
      "mu_std[22]   -0.15  2.1e-3   0.13  -0.41  -0.24  -0.15  -0.06   0.12   4000    1.0\n",
      "mu_std[23]   -0.13  2.1e-3   0.13  -0.39  -0.22  -0.13  -0.04   0.13   4000    1.0\n",
      "mu_std[24]   -0.11  2.0e-3   0.13  -0.37   -0.2  -0.11  -0.03   0.14   4000    1.0\n",
      "mu_std[25]    -0.1  2.0e-3   0.13  -0.34  -0.18   -0.1  -0.01   0.16   4000    1.0\n",
      "mu_std[26]   -0.08  2.0e-3   0.12  -0.32  -0.16  -0.08 6.3e-3   0.17   4000    1.0\n",
      "mu_std[27]   -0.06  1.9e-3   0.12  -0.31  -0.14  -0.06   0.02   0.18   4000    1.0\n",
      "mu_std[28]   -0.04  1.9e-3   0.12  -0.29  -0.13  -0.04   0.04    0.2   4000    1.0\n",
      "mu_std[29]   -0.03  1.9e-3   0.12  -0.27  -0.11  -0.03   0.05   0.22   4000    1.0\n",
      "mu_std[30] -8.6e-3  1.9e-3   0.12  -0.25  -0.09-9.2e-3   0.07   0.23   4000    1.0\n",
      "mu_std[31]  8.8e-3  1.9e-3   0.12  -0.23  -0.07 8.6e-3   0.09   0.25   4000    1.0\n",
      "mu_std[32]    0.03  1.9e-3   0.12  -0.21  -0.05   0.02    0.1   0.27   4000    1.0\n",
      "mu_std[33]    0.04  1.9e-3   0.12   -0.2  -0.04   0.04   0.12   0.29   4000    1.0\n",
      "mu_std[34]    0.06  2.0e-3   0.12  -0.18  -0.02   0.06   0.14   0.31   4000    1.0\n",
      "mu_std[35]    0.08  2.0e-3   0.13  -0.17-3.3e-3   0.08   0.16   0.33   4000    1.0\n",
      "mu_std[36]     0.1  2.0e-3   0.13  -0.16   0.01   0.09   0.18   0.35   4000    1.0\n",
      "mu_std[37]    0.11  2.0e-3   0.13  -0.15   0.03   0.11    0.2   0.37   4000    1.0\n",
      "mu_std[38]    0.13  2.1e-3   0.13  -0.13   0.04   0.13   0.22   0.39   4000    1.0\n",
      "mu_std[39]    0.15  2.1e-3   0.13  -0.12   0.06   0.15   0.24   0.42   4000    1.0\n",
      "mu_std[40]    0.17  2.2e-3   0.14  -0.11   0.07   0.16   0.26   0.44   4000    1.0\n",
      "mu_std[41]    0.18  2.2e-3   0.14   -0.1   0.09   0.18   0.28   0.47   4000    1.0\n",
      "mu_std[42]     0.2  2.3e-3   0.15  -0.08    0.1    0.2    0.3   0.49   4000    1.0\n",
      "mu_std[43]    0.22  2.4e-3   0.15  -0.07   0.12   0.22   0.31   0.52   4000    1.0\n",
      "mu_std[44]    0.23  2.4e-3   0.15  -0.06   0.13   0.23   0.34   0.54   4000    1.0\n",
      "mu_std[45]    0.25  2.5e-3   0.16  -0.05   0.14   0.25   0.36   0.57   4000    1.0\n",
      "mu_std[46]    0.27  2.6e-3   0.16  -0.04   0.16   0.27   0.38    0.6   4000    1.0\n",
      "mu_std[47]    0.29  2.6e-3   0.17  -0.03   0.17   0.29    0.4   0.63   4000    1.0\n",
      "mu_std[48]     0.3  2.7e-3   0.17  -0.03   0.19    0.3   0.42   0.65   4000    1.0\n",
      "mu_std[49]    0.32  2.8e-3   0.18  -0.02    0.2   0.32   0.44   0.68   4000    1.0\n",
      "mu_std[50]    0.34  2.9e-3   0.18  -0.01   0.22   0.34   0.46   0.71   4000    1.0\n",
      "mu_std[51]    0.36  3.0e-3   0.19-4.3e-3   0.23   0.35   0.48   0.74   4000    1.0\n",
      "mu_std[52]    0.37  3.0e-3   0.19 3.8e-3   0.24   0.37    0.5   0.77   4000    1.0\n",
      "mu_std[53]    0.39  3.1e-3    0.2 9.9e-3   0.26   0.39   0.52   0.79   4000    1.0\n",
      "mu_std[54]    0.41  3.2e-3    0.2   0.02   0.27   0.41   0.54   0.82   4000    1.0\n",
      "mu_std[55]    0.43  3.3e-3   0.21   0.02   0.28   0.42   0.56   0.85   4000    1.0\n",
      "mu_std[56]    0.44  3.4e-3   0.21   0.03    0.3   0.44   0.59   0.88   4000    1.0\n",
      "mu_std[57]    0.46  3.5e-3   0.22   0.03   0.31   0.46   0.61   0.91   4000    1.0\n",
      "mu_std[58]    0.48  3.6e-3   0.23   0.04   0.32   0.47   0.63   0.93   4000    1.0\n",
      "mu_std[59]     0.5  3.7e-3   0.23   0.05   0.34   0.49   0.65   0.96   4000    1.0\n",
      "mu_std[60]    0.51  3.8e-3   0.24   0.05   0.35   0.51   0.67   0.99   4000    1.0\n",
      "mu_std[61]    0.53  3.9e-3   0.24   0.06   0.36   0.53   0.69   1.02   4000    1.0\n",
      "mu[0]          8.7  4.5e-3   0.28   8.14    8.5    8.7   8.89   9.26   4000    1.0\n",
      "mu[1]         8.72  4.3e-3   0.27   8.18   8.53   8.72   8.91   9.26   4000    1.0\n",
      "mu[2]         8.74  4.2e-3   0.27   8.21   8.55   8.74   8.92   9.27   4000    1.0\n",
      "mu[3]         8.76  4.1e-3   0.26   8.24   8.58   8.76   8.94   9.27   4000    1.0\n",
      "mu[4]         8.78  4.0e-3   0.25   8.28    8.6   8.78   8.95   9.28   4000    1.0\n",
      "mu[5]          8.8  3.9e-3   0.25   8.31   8.63   8.81   8.97   9.28   4000    1.0\n",
      "mu[6]         8.82  3.8e-3   0.24   8.35   8.65   8.82   8.99   9.29   4000    1.0\n",
      "mu[7]         8.84  3.7e-3   0.23   8.38   8.67   8.84    9.0   9.29   4000    1.0\n",
      "mu[8]         8.86  3.6e-3   0.23   8.41    8.7   8.86   9.02    9.3   4000    1.0\n",
      "mu[9]         8.88  3.5e-3   0.22   8.45   8.72   8.88   9.03   9.31   4000    1.0\n",
      "mu[10]         8.9  3.4e-3   0.22   8.48   8.75    8.9   9.05   9.32   4000    1.0\n",
      "mu[11]        8.92  3.3e-3   0.21   8.51   8.77   8.92   9.06   9.33   4000    1.0\n",
      "mu[12]        8.94  3.2e-3    0.2   8.55    8.8   8.94   9.08   9.33   4000    1.0\n",
      "mu[13]        8.96  3.1e-3    0.2   8.58   8.82   8.96    9.1   9.35   4000    1.0\n",
      "mu[14]        8.98  3.0e-3   0.19   8.61   8.85   8.98   9.11   9.36   4000    1.0\n",
      "mu[15]         9.0  3.0e-3   0.19   8.64   8.87    9.0   9.13   9.37   4000    1.0\n",
      "mu[16]        9.02  2.9e-3   0.18   8.67   8.89   9.02   9.15   9.38   4000    1.0\n",
      "mu[17]        9.04  2.8e-3   0.18    8.7   8.92   9.04   9.16   9.38   4000    1.0\n",
      "mu[18]        9.06  2.7e-3   0.17   8.73   8.94   9.06   9.18    9.4   4000    1.0\n",
      "mu[19]        9.08  2.6e-3   0.17   8.76   8.97   9.08    9.2   9.41   4000    1.0\n",
      "mu[20]         9.1  2.6e-3   0.16   8.79   8.99    9.1   9.21   9.42   4000    1.0\n",
      "mu[21]        9.12  2.5e-3   0.16   8.81   9.01   9.12   9.23   9.43   4000    1.0\n",
      "mu[22]        9.14  2.5e-3   0.16   8.84   9.04   9.14   9.25   9.45   4000    1.0\n",
      "mu[23]        9.16  2.4e-3   0.15   8.86   9.06   9.16   9.26   9.46   4000    1.0\n",
      "mu[24]        9.18  2.4e-3   0.15   8.89   9.08   9.18   9.28   9.48   4000    1.0\n",
      "mu[25]         9.2  2.3e-3   0.15   8.91    9.1    9.2    9.3    9.5   4000    1.0\n",
      "mu[26]        9.22  2.3e-3   0.14   8.94   9.13   9.22   9.32   9.52   4000    1.0\n",
      "mu[27]        9.24  2.3e-3   0.14   8.96   9.15   9.24   9.34   9.53   4000    1.0\n",
      "mu[28]        9.26  2.2e-3   0.14   8.98   9.17   9.26   9.36   9.54   4000    1.0\n",
      "mu[29]        9.28  2.2e-3   0.14    9.0   9.19   9.28   9.38   9.56   4000    1.0\n",
      "mu[30]         9.3  2.2e-3   0.14   9.02   9.21    9.3    9.4   9.58   4000    1.0\n",
      "mu[31]        9.32  2.2e-3   0.14   9.05   9.23   9.32   9.41    9.6   4000    1.0\n",
      "mu[32]        9.34  2.2e-3   0.14   9.06   9.25   9.34   9.43   9.62   4000    1.0\n",
      "mu[33]        9.36  2.2e-3   0.14   9.08   9.27   9.36   9.45   9.65   4000    1.0\n",
      "mu[34]        9.38  2.3e-3   0.14    9.1   9.29   9.38   9.48   9.67   4000    1.0\n",
      "mu[35]         9.4  2.3e-3   0.15   9.11   9.31    9.4    9.5   9.69   4000    1.0\n",
      "mu[36]        9.42  2.3e-3   0.15   9.13   9.33   9.42   9.52   9.72   4000    1.0\n",
      "mu[37]        9.44  2.4e-3   0.15   9.14   9.35   9.44   9.54   9.74   4000    1.0\n",
      "mu[38]        9.46  2.4e-3   0.15   9.16   9.36   9.46   9.57   9.77   4000    1.0\n",
      "mu[39]        9.48  2.5e-3   0.16   9.17   9.38   9.48   9.59    9.8   4000    1.0\n",
      "mu[40]         9.5  2.5e-3   0.16   9.19    9.4    9.5   9.61   9.82   4000    1.0\n",
      "mu[41]        9.52  2.6e-3   0.16    9.2   9.41   9.52   9.63   9.85   4000    1.0\n",
      "mu[42]        9.54  2.7e-3   0.17   9.22   9.43   9.54   9.66   9.88   4000    1.0\n",
      "mu[43]        9.57  2.7e-3   0.17   9.23   9.45   9.56   9.68   9.91   4000    1.0\n",
      "mu[44]        9.59  2.8e-3   0.18   9.24   9.46   9.58    9.7   9.94   4000    1.0\n",
      "mu[45]        9.61  2.9e-3   0.18   9.25   9.48    9.6   9.73   9.97   4000    1.0\n",
      "mu[46]        9.63  3.0e-3   0.19   9.26    9.5   9.63   9.75  10.01   4000    1.0\n",
      "mu[47]        9.65  3.1e-3   0.19   9.27   9.51   9.64   9.77  10.04   4000    1.0\n",
      "mu[48]        9.67  3.2e-3    0.2   9.28   9.53   9.66    9.8  10.07   4000    1.0\n",
      "mu[49]        9.69  3.2e-3   0.21   9.29   9.55   9.68   9.82   10.1   4000    1.0\n",
      "mu[50]        9.71  3.3e-3   0.21    9.3   9.56    9.7   9.85  10.14   4000    1.0\n",
      "mu[51]        9.73  3.4e-3   0.22   9.31   9.58   9.72   9.87  10.17   4000    1.0\n",
      "mu[52]        9.75  3.5e-3   0.22   9.32   9.59   9.74    9.9   10.2   4000    1.0\n",
      "mu[53]        9.77  3.6e-3   0.23   9.32   9.61   9.76   9.92  10.23   4000    1.0\n",
      "mu[54]        9.79  3.7e-3   0.24   9.33   9.63   9.78   9.94  10.26   4000    1.0\n",
      "mu[55]        9.81  3.8e-3   0.24   9.34   9.64    9.8   9.97   10.3   4000    1.0\n",
      "mu[56]        9.83  3.9e-3   0.25   9.35   9.66   9.82   9.99  10.33   4000    1.0\n",
      "mu[57]        9.85  4.0e-3   0.26   9.35   9.67   9.84  10.02  10.36   4000    1.0\n",
      "mu[58]        9.87  4.2e-3   0.26   9.36   9.69   9.86  10.04   10.4   4000    1.0\n",
      "mu[59]        9.89  4.3e-3   0.27   9.37    9.7   9.88  10.06  10.43   4000    1.0\n",
      "mu[60]        9.91  4.4e-3   0.28   9.37   9.72    9.9  10.09  10.46   4000    1.0\n",
      "mu[61]        9.93  4.5e-3   0.28   9.38   9.73   9.92  10.11   10.5   4000    1.0\n",
      "sigma         1.13  1.9e-3   0.11   0.95   1.06   1.12   1.19   1.36   3149    1.0\n",
      "ypred        742.8    4.62 292.49 175.09 541.73 737.95 933.98 1320.5   4000    1.0\n",
      "log_lik[0]   -1.13  2.1e-3   0.13  -1.42   -1.2  -1.12  -1.05  -0.92   3629    1.0\n",
      "log_lik[1]   -2.97  8.5e-3   0.54  -4.18   -3.3  -2.93  -2.59  -2.06   4000    1.0\n",
      "log_lik[2]   -1.24  2.7e-3   0.16   -1.6  -1.34  -1.22  -1.13  -0.99   3503    1.0\n",
      "log_lik[3]   -1.24  2.4e-3   0.15  -1.59  -1.33  -1.22  -1.13  -0.99   4000    1.0\n",
      "log_lik[4]   -1.25  2.4e-3   0.15  -1.59  -1.34  -1.23  -1.14   -1.0   4000    1.0\n",
      "log_lik[5]   -1.55  3.5e-3   0.22  -2.03  -1.68  -1.53  -1.39  -1.19   4000    1.0\n",
      "log_lik[6]   -1.08  1.8e-3    0.1   -1.3  -1.14  -1.07  -1.01   -0.9   3032    1.0\n",
      "log_lik[7]   -1.09  1.9e-3    0.1  -1.31  -1.15  -1.08  -1.01   -0.9   3021    1.0\n",
      "log_lik[8]   -2.89  7.2e-3   0.45  -3.91  -3.17  -2.86  -2.57  -2.12   4000    1.0\n",
      "log_lik[9]   -1.65  3.4e-3   0.22  -2.14  -1.79  -1.63   -1.5  -1.29   4000    1.0\n",
      "log_lik[10]  -1.73  3.6e-3   0.23  -2.23  -1.87  -1.72  -1.56  -1.35   4000    1.0\n",
      "log_lik[11]  -1.06  1.7e-3   0.09  -1.26  -1.12  -1.06   -1.0  -0.89   3044    1.0\n",
      "log_lik[12]  -1.22  1.9e-3   0.12  -1.47   -1.3  -1.21  -1.13   -1.0   4000    1.0\n",
      "log_lik[13]   -2.3  4.9e-3   0.31  -2.98  -2.49  -2.27  -2.06  -1.78   4000    1.0\n",
      "log_lik[14]  -1.09  1.8e-3    0.1  -1.31  -1.16  -1.09  -1.02  -0.91   3163    1.0\n",
      "log_lik[15]  -1.07  1.7e-3   0.09  -1.27  -1.13  -1.06   -1.0   -0.9   3146    1.0\n",
      "log_lik[16]  -1.86  3.4e-3   0.21  -2.33   -2.0  -1.84   -1.7   -1.5   4000    1.0\n",
      "log_lik[17]   -1.9  3.4e-3   0.21  -2.37  -2.03  -1.89  -1.75  -1.54   4000    1.0\n",
      "log_lik[18]  -2.56  5.1e-3   0.32  -3.27  -2.75  -2.53  -2.33   -2.0   4000    1.0\n",
      "log_lik[19]  -1.06  1.7e-3   0.09  -1.26  -1.12  -1.06   -1.0  -0.89   3127    1.0\n",
      "log_lik[20]  -2.99  6.1e-3   0.38  -3.83  -3.22  -2.96  -2.72  -2.32   4000    1.0\n",
      "log_lik[21]  -1.36  1.9e-3   0.12   -1.6  -1.43  -1.35  -1.27  -1.15   4000    1.0\n",
      "log_lik[22]  -1.42  1.9e-3   0.12  -1.67  -1.49  -1.41  -1.33   -1.2   4000    1.0\n",
      "log_lik[23]   -4.1  9.5e-3   0.57  -5.34  -4.47  -4.06  -3.69  -3.11   3625    1.0\n",
      "log_lik[24]  -1.43  1.9e-3   0.12  -1.69  -1.51  -1.43  -1.35  -1.22   4000    1.0\n",
      "log_lik[25]   -1.3  1.7e-3    0.1  -1.52  -1.37   -1.3  -1.23  -1.11   4000    1.0\n",
      "log_lik[26]  -1.08  1.6e-3   0.09  -1.27  -1.14  -1.07  -1.01  -0.91   3128    1.0\n",
      "log_lik[27]  -1.22  1.6e-3    0.1  -1.42  -1.28  -1.22  -1.15  -1.04   3490    1.0\n",
      "log_lik[28]  -1.76  2.5e-3   0.16  -2.11  -1.86  -1.75  -1.65  -1.49   4000    1.0\n",
      "log_lik[29]  -2.18  3.5e-3   0.22  -2.67  -2.32  -2.16  -2.02   -1.8   4000    1.0\n",
      "log_lik[30]  -2.07  3.2e-3    0.2  -2.52   -2.2  -2.06  -1.93  -1.73   4000    1.0\n",
      "log_lik[31]  -1.64  2.2e-3   0.14  -1.95  -1.73  -1.64  -1.55   -1.4   4000    1.0\n",
      "log_lik[32]   -1.4  1.7e-3   0.11  -1.64  -1.47   -1.4  -1.32   -1.2   4000    1.0\n",
      "log_lik[33]  -1.09  1.6e-3   0.09  -1.28  -1.15  -1.09  -1.03  -0.92   3166    1.0\n",
      "log_lik[34]  -1.05  1.7e-3   0.09  -1.24  -1.11  -1.05  -0.99  -0.88   3025    1.0\n",
      "log_lik[35]  -2.82  5.2e-3   0.33  -3.53  -3.02  -2.79  -2.59  -2.24   4000    1.0\n",
      "log_lik[36]  -1.35  1.7e-3   0.11  -1.59  -1.42  -1.35  -1.28  -1.15   4000    1.0\n",
      "log_lik[37]  -1.06  1.7e-3   0.09  -1.24  -1.12  -1.05  -0.99  -0.89   3014    1.0\n",
      "log_lik[38]  -1.33  1.7e-3   0.11  -1.56  -1.39  -1.32  -1.26  -1.13   4000    1.0\n",
      "log_lik[39]  -1.09  1.7e-3   0.09  -1.28  -1.15  -1.08  -1.02  -0.92   3135    1.0\n",
      "log_lik[40]  -1.15  1.8e-3    0.1  -1.36  -1.21  -1.14  -1.08  -0.97   3220    1.0\n",
      "log_lik[41]  -1.12  1.8e-3    0.1  -1.33  -1.18  -1.11  -1.05  -0.94   3133    1.0\n",
      "log_lik[42]  -1.05  1.8e-3   0.09  -1.25  -1.11  -1.04  -0.99  -0.88   2830    1.0\n",
      "log_lik[43]  -1.35  2.0e-3   0.13  -1.62  -1.43  -1.34  -1.26  -1.13   4000    1.0\n",
      "log_lik[44]  -1.09  1.7e-3    0.1  -1.29  -1.15  -1.09  -1.02  -0.92   3110    1.0\n",
      "log_lik[45]  -1.37  2.1e-3   0.13  -1.67  -1.46  -1.36  -1.28  -1.13   4000    1.0\n",
      "log_lik[46]  -1.07  1.8e-3    0.1  -1.28  -1.13  -1.06  -1.01  -0.89   2836    1.0\n",
      "log_lik[47]  -1.22  2.0e-3   0.12  -1.48  -1.29  -1.21  -1.14  -1.01   3487    1.0\n",
      "log_lik[48]  -1.23  2.1e-3   0.12  -1.51  -1.31  -1.22  -1.14  -1.01   3537    1.0\n",
      "log_lik[49]  -1.05  1.8e-3   0.09  -1.25  -1.11  -1.05  -0.99  -0.88   2701    1.0\n",
      "log_lik[50]  -2.21  4.9e-3   0.31  -2.86   -2.4  -2.18  -1.99  -1.67   4000    1.0\n",
      "log_lik[51]  -1.44  2.7e-3   0.17  -1.81  -1.54  -1.42  -1.32  -1.15   4000    1.0\n",
      "log_lik[52]  -1.11  1.9e-3    0.1  -1.33  -1.17   -1.1  -1.04  -0.92   3155    1.0\n",
      "log_lik[53]  -1.49  3.0e-3   0.19   -1.9  -1.61  -1.47  -1.35  -1.17   4000    1.0\n",
      "log_lik[54]  -1.21  2.1e-3   0.13   -1.5  -1.29   -1.2  -1.12  -0.98   3823    1.0\n",
      "log_lik[55]  -1.16  2.0e-3   0.12  -1.43  -1.23  -1.15  -1.08  -0.95   3522    1.0\n",
      "log_lik[56]  -1.48  3.3e-3   0.21  -1.95  -1.61  -1.46  -1.33  -1.15   4000    1.0\n",
      "log_lik[57]  -1.06  2.0e-3    0.1  -1.28  -1.13  -1.06   -1.0  -0.89   2516    1.0\n",
      "log_lik[58]  -1.52  3.6e-3   0.23  -2.03  -1.65  -1.49  -1.35  -1.16   4000    1.0\n",
      "log_lik[59]   -1.4  3.1e-3    0.2  -1.86  -1.52  -1.38  -1.26  -1.08   4000    1.0\n",
      "log_lik[60]  -1.75  4.6e-3   0.29  -2.41  -1.92  -1.72  -1.54  -1.28   4000    1.0\n",
      "log_lik[61]  -1.62  4.2e-3   0.26  -2.22  -1.78  -1.59  -1.43  -1.19   4000    1.0\n",
      "lp__        -28.79    0.03   1.23  -31.9 -29.37 -28.48 -27.88 -27.37   1779    1.0\n",
      "\n",
      "Samples were drawn using NUTS at Mon Aug 28 08:58:44 2017.\n",
      "For each parameter, n_eff is a crude measure of effective sample size,\n",
      "and Rhat is the potential scale reduction factor on split chains (at \n",
      "convergence, Rhat=1).\n"
     ]
    }
   ],
   "source": [
    "print(fit)"
   ]
  },
  {
   "cell_type": "markdown",
   "metadata": {},
   "source": [
    "We get now much better effective sample sizes `n_eff`.\n",
    "\n",
    "Check the treedepth, E-BFMI, and divergences"
   ]
  },
  {
   "cell_type": "code",
   "execution_count": 29,
   "metadata": {
    "collapsed": false
   },
   "outputs": [
    {
     "name": "stdout",
     "output_type": "stream",
     "text": [
      "0 of 4000 iterations saturated the maximum tree depth of 10 (0.0%)\n",
      "0.0 of 4000 iterations ended with a divergence (0.0%)\n"
     ]
    }
   ],
   "source": [
    "stan_utility.check_treedepth(fit)\n",
    "stan_utility.check_energy(fit)\n",
    "stan_utility.check_div(fit)"
   ]
  },
  {
   "cell_type": "markdown",
   "metadata": {},
   "source": [
    "Everything is fine now. The next figure shows that with the standardized data there is not much posterior correlation:"
   ]
  },
  {
   "cell_type": "code",
   "execution_count": 30,
   "metadata": {
    "collapsed": false
   },
   "outputs": [
    {
     "data": {
      "image/png": "[encoded data removed]",
      "text/plain": [
       "<matplotlib.figure.Figure at 0x7fadb46376a0>"
      ]
     },
     "metadata": {},
     "output_type": "display_data"
    }
   ],
   "source": [
    "samples = fit.extract(permuted=True)\n",
    "plt.figure()\n",
    "# preview 2000 samples\n",
    "plt.scatter(samples['alpha'][:2000], samples['beta'][:2000], 5)\n",
    "plt.xlabel('alpha')\n",
    "plt.ylabel('beta');"
   ]
  },
  {
   "cell_type": "markdown",
   "metadata": {},
   "source": [
    "Compute the probability that the summer temperature is increasing."
   ]
  },
  {
   "cell_type": "code",
   "execution_count": 31,
   "metadata": {
    "collapsed": false
   },
   "outputs": [
    {
     "name": "stdout",
     "output_type": "stream",
     "text": [
      "Pr(beta > 0) = 0.9945\n"
     ]
    }
   ],
   "source": [
    "print('Pr(beta > 0) = {}'.format(np.mean(samples['beta'] > 0)))"
   ]
  },
  {
   "cell_type": "markdown",
   "metadata": {},
   "source": [
    "Plot the data, the model fit and prediction for year 2016."
   ]
  },
  {
   "cell_type": "code",
   "execution_count": 32,
   "metadata": {
    "collapsed": false
   },
   "outputs": [
    {
     "data": {
      "image/png": "[encoded data removed]",
      "text/plain": [
       "<matplotlib.figure.Figure at 0x7fadb3e6d470>"
      ]
     },
     "metadata": {},
     "output_type": "display_data"
    }
   ],
   "source": [
    "# make slightly wider figure of 3 plots\n",
    "figsize = plt.rcParams['figure.figsize'].copy()\n",
    "figsize[0] *= 1.4  # width\n",
    "figsize[1] *= 2.5  # height\n",
    "fig, axes = plt.subplots(3, 1, figsize=figsize)\n",
    "\n",
    "# plot 1: scatterplot and lines\n",
    "color_scatter = 'C0'  # 'C0' for default color #0\n",
    "color_line = 'C1'     # 'C1' for default color #1\n",
    "# lighten color_line\n",
    "color_shade = (\n",
    "    1 - 0.1*(1 - np.array(mpl.colors.to_rgb(color_line)))\n",
    ")\n",
    "# plot\n",
    "ax = axes[0]\n",
    "ax.fill_between(\n",
    "    x,\n",
    "    np.percentile(samples['mu'], 5, axis=0),\n",
    "    np.percentile(samples['mu'], 95, axis=0),\n",
    "    color=color_shade\n",
    ")\n",
    "ax.plot(\n",
    "    x,\n",
    "    np.percentile(samples['mu'], 50, axis=0),\n",
    "    color=color_line,\n",
    "    linewidth=1\n",
    ")\n",
    "ax.scatter(x, y, 5, color=color_scatter)\n",
    "ax.set_xlabel('year')\n",
    "ax.set_ylabel('summer temperature at Kilpisjarvi')\n",
    "ax.set_xlim((1952, 2013))\n",
    "\n",
    "# plot 2: histogram\n",
    "ax = axes[1]\n",
    "ax.hist(samples['beta'], 50)\n",
    "ax.set_xlabel('beta')\n",
    "\n",
    "# plot 3: histogram\n",
    "ax = axes[2]\n",
    "ax.hist(samples['ypred'], 50)\n",
    "ax.set_xlabel('y-prediction for x={}'.format(xpred))\n",
    "\n",
    "# make figure compact\n",
    "fig.tight_layout();"
   ]
  },
  {
   "cell_type": "markdown",
   "metadata": {},
   "source": [
    "## Linear Student's t model.\n",
    "\n",
    "The temperatures used in the above analyses are averages over three months, which makes it more likely that they are normally distributed, but there can be extreme events in the feather and we can check whether more robust Student's t observation model woul give different results."
   ]
  },
  {
   "cell_type": "code",
   "execution_count": 33,
   "metadata": {
    "collapsed": false
   },
   "outputs": [
    {
     "name": "stdout",
     "output_type": "stream",
     "text": [
      "// Linear student-t model\n",
      "data {\n",
      "  int<lower=0> N; // number of data points\n",
      "  vector[N] x; //\n",
      "  vector[N] y; //\n",
      "  real xpred; // input location for prediction\n",
      "}\n",
      "parameters {\n",
      "  real alpha;\n",
      "  real beta;\n",
      "  real<lower=0> sigma;\n",
      "  real<lower=1, upper=80> nu;\n",
      "}\n",
      "transformed parameters {\n",
      "  vector[N] mu;\n",
      "  mu = alpha + beta*x;\n",
      "}\n",
      "model {\n",
      "  nu ~ gamma(2, 0.1); // Juarez and Steel(2010)\n",
      "  y ~ student_t(nu, mu, sigma);\n",
      "}\n",
      "generated quantities {\n",
      "  real ypred;\n",
      "  vector[N] log_lik;\n",
      "  ypred = normal_rng(alpha + beta*xpred, sigma);\n",
      "  for (i in 1:N)\n",
      "    log_lik[i] = student_t_lpdf(y[i] | nu, mu[i], sigma);\n",
      "}\n",
      "\n"
     ]
    }
   ],
   "source": [
    "with open('lin_t.stan') as file:\n",
    "    print(file.read())"
   ]
  },
  {
   "cell_type": "code",
   "execution_count": 34,
   "metadata": {
    "collapsed": false
   },
   "outputs": [
    {
     "name": "stdout",
     "output_type": "stream",
     "text": [
      "Using cached StanModel\n"
     ]
    }
   ],
   "source": [
    "model = stan_utility.compile_model('lin_t.stan')\n",
    "fit = model.sampling(data=data, seed=194838)\n",
    "samples = fit.extract(permuted=True)"
   ]
  },
  {
   "cell_type": "markdown",
   "metadata": {},
   "source": [
    "Check the `n_eff` and `Rhat`"
   ]
  },
  {
   "cell_type": "code",
   "execution_count": 35,
   "metadata": {
    "collapsed": false,
    "scrolled": false
   },
   "outputs": [
    {
     "name": "stdout",
     "output_type": "stream",
     "text": [
      "Inference for Stan model: anon_model_985e43a8fe28088e3317d00edd324bab.\n",
      "4 chains, each with iter=2000; warmup=1000; thin=1; \n",
      "post-warmup draws per chain=1000, total post-warmup draws=4000.\n",
      "\n",
      "              mean se_mean     sd   2.5%    25%    50%    75%  97.5%  n_eff   Rhat\n",
      "alpha       -33.04     0.4   15.9 -64.46 -43.12  -32.9 -22.63  -1.98   1544    1.0\n",
      "beta          0.02  2.0e-4 8.0e-3 5.7e-3   0.02   0.02   0.03   0.04   1543    1.0\n",
      "sigma         1.08  2.4e-3   0.11   0.89   1.01   1.08   1.15   1.32   2082   1.01\n",
      "nu           23.96    0.29  12.93    6.1   14.2  21.32  31.44  55.47   1986    1.0\n",
      "mu[0]         8.66  6.5e-3   0.28   8.09   8.47   8.67   8.85   9.21   1917    1.0\n",
      "mu[1]         8.68  6.2e-3   0.28   8.13   8.49   8.69   8.87   9.22   1991    1.0\n",
      "mu[2]          8.7  6.0e-3   0.27   8.16   8.52   8.71   8.88   9.23   2014    1.0\n",
      "mu[3]         8.72  5.9e-3   0.26    8.2   8.55   8.73    8.9   9.24   2039    1.0\n",
      "mu[4]         8.74  5.7e-3   0.26   8.23   8.57   8.75   8.92   9.25   2067    1.0\n",
      "mu[5]         8.77  5.5e-3   0.25   8.27    8.6   8.77   8.93   9.25   2097    1.0\n",
      "mu[6]         8.79  5.3e-3   0.24    8.3   8.62   8.79   8.95   9.26   2130    1.0\n",
      "mu[7]         8.81  5.1e-3   0.24   8.33   8.65   8.81   8.97   9.27   2166    1.0\n",
      "mu[8]         8.83  4.9e-3   0.23   8.36   8.67   8.84   8.99   9.28   2206    1.0\n",
      "mu[9]         8.85  4.8e-3   0.23   8.39    8.7   8.86    9.0   9.29   2250    1.0\n",
      "mu[10]        8.87  4.6e-3   0.22   8.43   8.73   8.88   9.02   9.29   2299    1.0\n",
      "mu[11]        8.89  4.4e-3   0.21   8.46   8.75    8.9   9.03    9.3   2353    1.0\n",
      "mu[12]        8.92  4.2e-3   0.21    8.5   8.78   8.92   9.05   9.31   2412    1.0\n",
      "mu[13]        8.94  4.1e-3    0.2   8.53    8.8   8.94   9.07   9.32   2478    1.0\n",
      "mu[14]        8.96  3.9e-3    0.2   8.57   8.83   8.96   9.09   9.33   2552    1.0\n",
      "mu[15]        8.98  3.7e-3   0.19    8.6   8.85   8.98    9.1   9.35   2633    1.0\n",
      "mu[16]         9.0  3.6e-3   0.19   8.63   8.88    9.0   9.12   9.36   2720    1.0\n",
      "mu[17]        9.02  3.4e-3   0.18   8.66    8.9   9.03   9.14   9.37   2817    1.0\n",
      "mu[18]        9.04  3.3e-3   0.18    8.7   8.92   9.05   9.16   9.38   2923    1.0\n",
      "mu[19]        9.06  3.1e-3   0.17   8.73   8.95   9.07   9.18    9.4   3041    1.0\n",
      "mu[20]        9.09  3.0e-3   0.17   8.75   8.97   9.09    9.2   9.41   3169    1.0\n",
      "mu[21]        9.11  2.8e-3   0.16   8.78    9.0   9.11   9.21   9.42   3308    1.0\n",
      "mu[22]        9.13  2.7e-3   0.16   8.81   9.02   9.13   9.23   9.44   3456    1.0\n",
      "mu[23]        9.15  2.6e-3   0.16   8.84   9.04   9.15   9.25   9.45   3601    1.0\n",
      "mu[24]        9.17  2.5e-3   0.15   8.87   9.07   9.17   9.27   9.46   3703    1.0\n",
      "mu[25]        9.19  2.5e-3   0.15   8.89   9.09   9.19   9.29   9.48   3802    1.0\n",
      "mu[26]        9.21  2.4e-3   0.15   8.92   9.11   9.21   9.32    9.5   3895    1.0\n",
      "mu[27]        9.24  2.3e-3   0.15   8.94   9.14   9.24   9.33   9.52   3978    1.0\n",
      "mu[28]        9.26  2.3e-3   0.15   8.97   9.16   9.26   9.36   9.54   4000    1.0\n",
      "mu[29]        9.28  2.3e-3   0.15   8.99   9.18   9.28   9.38   9.56   4000    1.0\n",
      "mu[30]         9.3  2.3e-3   0.14   9.02    9.2    9.3    9.4   9.58   4000    1.0\n",
      "mu[31]        9.32  2.3e-3   0.14   9.04   9.23   9.32   9.42    9.6   4000    1.0\n",
      "mu[32]        9.34  2.3e-3   0.14   9.06   9.25   9.34   9.44   9.62   4000    1.0\n",
      "mu[33]        9.36  2.3e-3   0.15   9.08   9.27   9.36   9.46   9.64   4000    1.0\n",
      "mu[34]        9.39  2.3e-3   0.15    9.1   9.29   9.38   9.48   9.67   4000    1.0\n",
      "mu[35]        9.41  2.4e-3   0.15   9.12   9.31    9.4   9.51    9.7   3925    1.0\n",
      "mu[36]        9.43  2.4e-3   0.15   9.13   9.33   9.42   9.53   9.72   3835    1.0\n",
      "mu[37]        9.45  2.5e-3   0.15   9.15   9.35   9.45   9.55   9.75   3738    1.0\n",
      "mu[38]        9.47  2.6e-3   0.16   9.16   9.37   9.47   9.57   9.77   3637    1.0\n",
      "mu[39]        9.49  2.9e-3   0.16   9.18   9.39   9.49    9.6   9.81   3116    1.0\n",
      "mu[40]        9.51  3.0e-3   0.16   9.19   9.41   9.51   9.62   9.84   2966    1.0\n",
      "mu[41]        9.53  3.1e-3   0.17    9.2   9.42   9.53   9.64   9.87   2830    1.0\n",
      "mu[42]        9.56  3.3e-3   0.17   9.22   9.44   9.55   9.67    9.9   2708    1.0\n",
      "mu[43]        9.58  3.4e-3   0.18   9.23   9.46   9.58   9.69   9.93   2598    1.0\n",
      "mu[44]         9.6  3.6e-3   0.18   9.24   9.48    9.6   9.72   9.96   2500    1.0\n",
      "mu[45]        9.62  3.8e-3   0.18   9.25    9.5   9.62   9.74   9.99   2413    1.0\n",
      "mu[46]        9.64  3.9e-3   0.19   9.26   9.52   9.64   9.77  10.03   2336    1.0\n",
      "mu[47]        9.66  4.1e-3    0.2   9.27   9.53   9.66   9.79  10.06   2266    1.0\n",
      "mu[48]        9.68  4.3e-3    0.2   9.28   9.55   9.68   9.82  10.09   2205    1.0\n",
      "mu[49]        9.71  4.4e-3   0.21    9.3   9.57   9.71   9.84  10.12   2150    1.0\n",
      "mu[50]        9.73  4.6e-3   0.21   9.31   9.59   9.73   9.87  10.15   2101    1.0\n",
      "mu[51]        9.75  4.8e-3   0.22   9.32    9.6   9.75   9.89  10.19   2057    1.0\n",
      "mu[52]        9.77  5.0e-3   0.22   9.32   9.62   9.77   9.92  10.22   2017    1.0\n",
      "mu[53]        9.79  5.2e-3   0.23   9.34   9.64   9.79   9.94  10.26   1982    1.0\n",
      "mu[54]        9.81  5.4e-3   0.24   9.34   9.66   9.81   9.97  10.29   1950    1.0\n",
      "mu[55]        9.83  5.5e-3   0.24   9.35   9.67   9.83   9.99  10.33   1921    1.0\n",
      "mu[56]        9.86  5.7e-3   0.25   9.36   9.69   9.85  10.02  10.36   1895    1.0\n",
      "mu[57]        9.88  5.9e-3   0.26   9.37   9.71   9.87  10.05   10.4   1871    1.0\n",
      "mu[58]         9.9  6.1e-3   0.26   9.38   9.72    9.9  10.07  10.43   1850    1.0\n",
      "mu[59]        9.92  6.3e-3   0.27   9.39   9.74   9.92   10.1  10.47   1830    1.0\n",
      "mu[60]        9.94  6.5e-3   0.28   9.39   9.76   9.94  10.12   10.5   1812    1.0\n",
      "mu[61]        9.96  6.7e-3   0.28    9.4   9.78   9.96  10.15  10.53   1796    1.0\n",
      "ypred        10.04    0.02   1.14   7.75   9.29  10.04  10.78  12.28   3618    1.0\n",
      "log_lik[0]    -1.1  3.1e-3   0.13   -1.4  -1.18  -1.09  -1.01  -0.87   1932   1.01\n",
      "log_lik[1]   -3.06    0.01   0.51  -4.11  -3.39  -3.02  -2.69  -2.16   2087    1.0\n",
      "log_lik[2]   -1.26  4.2e-3   0.18  -1.69  -1.37  -1.24  -1.13  -0.97   1909    1.0\n",
      "log_lik[3]   -1.22  3.6e-3   0.16  -1.59  -1.31   -1.2   -1.1  -0.95   2050    1.0\n",
      "log_lik[4]   -1.23  3.6e-3   0.16  -1.59  -1.32  -1.21  -1.11  -0.96   2078    1.0\n",
      "log_lik[5]   -1.54  5.0e-3   0.23  -2.06  -1.69  -1.52  -1.38  -1.16   2088    1.0\n",
      "log_lik[6]   -1.05  2.4e-3   0.11  -1.27  -1.12  -1.05  -0.98  -0.85   1987   1.01\n",
      "log_lik[7]   -1.07  2.5e-3   0.12  -1.32  -1.14  -1.07  -0.99  -0.87   2086    1.0\n",
      "log_lik[8]   -2.97  9.3e-3   0.44  -3.89  -3.26  -2.94  -2.66  -2.21   2226    1.0\n",
      "log_lik[9]   -1.72  5.2e-3   0.24  -2.25  -1.88  -1.69  -1.55  -1.32   2198    1.0\n",
      "log_lik[10]  -1.75  5.0e-3   0.24  -2.27  -1.89  -1.73  -1.58  -1.34   2265    1.0\n",
      "log_lik[11]  -1.03  2.2e-3    0.1  -1.24   -1.1  -1.03  -0.96  -0.85   2034   1.01\n",
      "log_lik[12]   -1.2  2.8e-3   0.13  -1.49  -1.28  -1.19   -1.1  -0.97   2307    1.0\n",
      "log_lik[13]  -2.32  6.3e-3   0.31  -2.97  -2.52   -2.3   -2.1  -1.78   2420    1.0\n",
      "log_lik[14]  -1.08  2.6e-3   0.11  -1.31  -1.15  -1.07   -1.0  -0.88   1812    1.0\n",
      "log_lik[15]  -1.04  2.2e-3    0.1  -1.24   -1.1  -1.04  -0.97  -0.85   2087   1.01\n",
      "log_lik[16]  -1.89  4.5e-3   0.22  -2.38  -2.03  -1.87  -1.73   -1.5   2527    1.0\n",
      "log_lik[17]  -1.98  4.7e-3   0.24  -2.48  -2.13  -1.95  -1.81  -1.57   2570    1.0\n",
      "log_lik[18]  -2.63  6.4e-3   0.32  -3.32  -2.85  -2.61  -2.41  -2.07   2553    1.0\n",
      "log_lik[19]  -1.03  2.2e-3    0.1  -1.23   -1.1  -1.03  -0.97  -0.85   2111   1.01\n",
      "log_lik[20]  -3.04  7.2e-3   0.37  -3.79  -3.28  -3.01  -2.78  -2.39   2613    1.0\n",
      "log_lik[21]  -1.38  2.4e-3   0.14  -1.67  -1.47  -1.37  -1.29  -1.14   3058    1.0\n",
      "log_lik[22]  -1.45  2.5e-3   0.14  -1.74  -1.54  -1.44  -1.35   -1.2   3191    1.0\n",
      "log_lik[23]  -3.98  9.5e-3   0.49  -5.04  -4.29  -3.95  -3.63  -3.09   2728    1.0\n",
      "log_lik[24]  -1.45  2.2e-3   0.13  -1.73  -1.53  -1.44  -1.35  -1.21   3605    1.0\n",
      "log_lik[25]   -1.3  2.0e-3   0.11  -1.53  -1.38   -1.3  -1.22   -1.1   3396    1.0\n",
      "log_lik[26]  -1.06  2.1e-3    0.1  -1.26  -1.12  -1.05  -0.99  -0.87   2324   1.01\n",
      "log_lik[27]  -1.22  2.0e-3   0.11  -1.44  -1.29  -1.22  -1.15  -1.02   2831    1.0\n",
      "log_lik[28]  -1.81  2.9e-3   0.17  -2.19  -1.92   -1.8  -1.69  -1.51   3561    1.0\n",
      "log_lik[29]  -2.23  4.4e-3   0.23  -2.74  -2.38  -2.22  -2.07  -1.83   2803    1.0\n",
      "log_lik[30]  -2.13  4.0e-3   0.22   -2.6  -2.27  -2.11  -1.97  -1.75   2857    1.0\n",
      "log_lik[31]  -1.68  2.4e-3   0.15  -2.02  -1.78  -1.67  -1.57  -1.41   3962    1.0\n",
      "log_lik[32]  -1.42  1.9e-3   0.12  -1.68   -1.5  -1.41  -1.34   -1.2   3955    1.0\n",
      "log_lik[33]  -1.07  2.0e-3    0.1  -1.27  -1.13  -1.07   -1.0  -0.89   2387   1.01\n",
      "log_lik[34]  -1.02  2.1e-3    0.1  -1.22  -1.09  -1.02  -0.95  -0.84   2133   1.01\n",
      "log_lik[35]  -2.87  6.5e-3   0.33  -3.56  -3.08  -2.85  -2.63  -2.29   2492    1.0\n",
      "log_lik[36]  -1.36  2.0e-3   0.12  -1.62  -1.44  -1.36  -1.28  -1.15   3711    1.0\n",
      "log_lik[37]  -1.03  2.1e-3    0.1  -1.23  -1.09  -1.03  -0.96  -0.85   2140   1.01\n",
      "log_lik[38]  -1.33  2.1e-3   0.12  -1.59  -1.41  -1.33  -1.24  -1.11   3228    1.0\n",
      "log_lik[39]  -1.06  2.1e-3    0.1  -1.27  -1.13  -1.06  -0.99  -0.88   2270   1.01\n",
      "log_lik[40]  -1.14  2.1e-3   0.11  -1.36  -1.21  -1.14  -1.07  -0.95   2501    1.0\n",
      "log_lik[41]  -1.11  2.2e-3    0.1  -1.33  -1.17   -1.1  -1.04  -0.91   2365    1.0\n",
      "log_lik[42]  -1.02  2.2e-3    0.1  -1.22  -1.09  -1.02  -0.95  -0.84   2071   1.01\n",
      "log_lik[43]  -1.37  2.7e-3   0.14  -1.68  -1.46  -1.36  -1.27  -1.12   2600    1.0\n",
      "log_lik[44]  -1.06  2.2e-3    0.1  -1.28  -1.13  -1.06  -0.99  -0.87   2181   1.01\n",
      "log_lik[45]  -1.37  2.9e-3   0.15  -1.71  -1.46  -1.37  -1.27  -1.12   2546    1.0\n",
      "log_lik[46]  -1.05  2.2e-3    0.1  -1.27  -1.12  -1.05  -0.98  -0.86   2119    1.0\n",
      "log_lik[47]  -1.23  2.7e-3   0.13  -1.52  -1.31  -1.22  -1.14  -0.99   2321    1.0\n",
      "log_lik[48]  -1.24  2.9e-3   0.14  -1.55  -1.32  -1.23  -1.15   -1.0   2273    1.0\n",
      "log_lik[49]  -1.03  2.2e-3    0.1  -1.23  -1.09  -1.02  -0.96  -0.84   2020   1.01\n",
      "log_lik[50]  -2.23  6.4e-3    0.3  -2.88  -2.42  -2.21  -2.02  -1.69   2266    1.0\n",
      "log_lik[51]  -1.44  3.9e-3   0.18  -1.85  -1.55  -1.42  -1.31  -1.12   2193    1.0\n",
      "log_lik[52]  -1.08  2.7e-3   0.11  -1.32  -1.15  -1.07   -1.0  -0.88   1793   1.01\n",
      "log_lik[53]  -1.49  4.4e-3    0.2  -1.94  -1.61  -1.47  -1.35  -1.14   2117    1.0\n",
      "log_lik[54]  -1.19  3.3e-3   0.14  -1.52  -1.28  -1.18  -1.09  -0.94   1964    1.0\n",
      "log_lik[55]  -1.13  3.1e-3   0.13  -1.43  -1.21  -1.12  -1.04   -0.9   1908   1.01\n",
      "log_lik[56]  -1.53  5.2e-3   0.23  -2.06  -1.67  -1.51  -1.37  -1.15   1945    1.0\n",
      "log_lik[57]  -1.04  2.4e-3   0.11  -1.27  -1.11  -1.03  -0.97  -0.85   1955   1.01\n",
      "log_lik[58]  -1.58  5.7e-3   0.25  -2.15  -1.72  -1.55   -1.4  -1.17   1901    1.0\n",
      "log_lik[59]  -1.39  4.8e-3   0.21  -1.88  -1.52  -1.36  -1.24  -1.04   1907    1.0\n",
      "log_lik[60]  -1.83  7.3e-3   0.31  -2.54  -2.02   -1.8  -1.61  -1.31   1841    1.0\n",
      "log_lik[61]  -1.62  6.3e-3   0.27  -2.23  -1.78  -1.59  -1.42  -1.17   1899    1.0\n",
      "lp__        -56.47    0.04   1.43 -60.07 -57.18 -56.16 -55.41 -54.68   1420    1.0\n",
      "\n",
      "Samples were drawn using NUTS at Mon Aug 28 08:58:58 2017.\n",
      "For each parameter, n_eff is a crude measure of effective sample size,\n",
      "and Rhat is the potential scale reduction factor on split chains (at \n",
      "convergence, Rhat=1).\n"
     ]
    }
   ],
   "source": [
    "print(fit)"
   ]
  },
  {
   "cell_type": "markdown",
   "metadata": {},
   "source": [
    "Without standardization we'are again get smaller `n_eff`'s, but large enough for practical purposes.\n",
    "\n",
    "Check the treedepth, E-BFMI, and divergences"
   ]
  },
  {
   "cell_type": "code",
   "execution_count": 36,
   "metadata": {
    "collapsed": false
   },
   "outputs": [
    {
     "name": "stdout",
     "output_type": "stream",
     "text": [
      "162 of 4000 iterations saturated the maximum tree depth of 10 (4.05%)\n",
      "Run again with max_depth set to a larger value to avoid saturation\n",
      "0.0 of 4000 iterations ended with a divergence (0.0%)\n"
     ]
    }
   ],
   "source": [
    "stan_utility.check_treedepth(fit)\n",
    "stan_utility.check_energy(fit)\n",
    "stan_utility.check_div(fit)"
   ]
  },
  {
   "cell_type": "markdown",
   "metadata": {},
   "source": [
    "We see again many iterations saturating the maximum tree depth, which is harmful for the efficiency but doesn't invalidate the results."
   ]
  },
  {
   "cell_type": "markdown",
   "metadata": {},
   "source": [
    "Compute the probability that the summer temperature is increasing."
   ]
  },
  {
   "cell_type": "code",
   "execution_count": 37,
   "metadata": {
    "collapsed": false
   },
   "outputs": [
    {
     "name": "stdout",
     "output_type": "stream",
     "text": [
      "Pr(beta > 0) = 0.99525\n"
     ]
    }
   ],
   "source": [
    "samples = fit.extract(permuted=True)\n",
    "print('Pr(beta > 0) = {}'.format(np.mean(samples['beta'] > 0)))"
   ]
  },
  {
   "cell_type": "markdown",
   "metadata": {},
   "source": [
    "We get similar probability as with Gaussian obervation model."
   ]
  },
  {
   "cell_type": "markdown",
   "metadata": {},
   "source": [
    "Plot the data, the model fit, and the marginal posteriors for sigma and nu."
   ]
  },
  {
   "cell_type": "code",
   "execution_count": 38,
   "metadata": {
    "collapsed": false
   },
   "outputs": [
    {
     "data": {
      "image/png": "[encoded data removed]",
      "text/plain": [
       "<matplotlib.figure.Figure at 0x7fadb10a8128>"
      ]
     },
     "metadata": {},
     "output_type": "display_data"
    }
   ],
   "source": [
    "# make slightly wider figure of 4 plots\n",
    "figsize = plt.rcParams['figure.figsize'].copy()\n",
    "figsize[0] *= 1.4  # width\n",
    "figsize[1] *= 3  # height\n",
    "fig, axes = plt.subplots(4, 1, figsize=figsize)\n",
    "\n",
    "# plot 1: scatterplot and lines\n",
    "color_scatter = 'C0'  # 'C0' for default color #0\n",
    "color_line = 'C1'     # 'C1' for default color #1\n",
    "# lighten color_line\n",
    "color_shade = (\n",
    "    1 - 0.1*(1 - np.array(mpl.colors.to_rgb(color_line)))\n",
    ")\n",
    "# plot\n",
    "ax = axes[0]\n",
    "ax.fill_between(\n",
    "    x,\n",
    "    np.percentile(samples['mu'], 5, axis=0),\n",
    "    np.percentile(samples['mu'], 95, axis=0),\n",
    "    color=color_shade\n",
    ")\n",
    "ax.plot(\n",
    "    x,\n",
    "    np.percentile(samples['mu'], 50, axis=0),\n",
    "    color=color_line,\n",
    "    linewidth=1\n",
    ")\n",
    "ax.scatter(x, y, 5, color=color_scatter)\n",
    "ax.set_xlabel('year')\n",
    "ax.set_ylabel('summer temperature at Kilpisjarvi')\n",
    "ax.set_xlim((1952, 2013))\n",
    "\n",
    "# plot 2: histogram\n",
    "ax = axes[1]\n",
    "ax.hist(samples['beta'], 50)\n",
    "ax.set_xlabel('beta')\n",
    "\n",
    "# plot 3: histogram\n",
    "ax = axes[2]\n",
    "ax.hist(samples['sigma'], 50)\n",
    "ax.set_xlabel('sigma')\n",
    "\n",
    "# plot 4: histogram\n",
    "ax = axes[3]\n",
    "ax.hist(samples['nu'], 50)\n",
    "ax.set_xlabel('nu')\n",
    "\n",
    "# make figure compact\n",
    "fig.tight_layout();"
   ]
  },
  {
   "cell_type": "markdown",
   "metadata": {},
   "source": [
    "The posterior of nu reveals that Gaussian model is likely to be ok, as Student's t with `nu > 20` is very close to Gaussian."
   ]
  },
  {
   "cell_type": "markdown",
   "metadata": {},
   "source": [
    "# Comparison of k groups with hierarchical models\n",
    "\n",
    "Let's compare the temperatures in three summer months."
   ]
  },
  {
   "cell_type": "code",
   "execution_count": 39,
   "metadata": {
    "collapsed": true
   },
   "outputs": [],
   "source": [
    "data_path = os.path.abspath(\n",
    "    os.path.join(\n",
    "        os.path.pardir,\n",
    "        'utilities_and_data',\n",
    "        'kilpisjarvi-summer-temp.csv'\n",
    "    )\n",
    ")\n",
    "d = np.loadtxt(data_path, dtype=np.double, delimiter=';', skiprows=1)\n",
    "# Is there difference between different summer months?\n",
    "x = np.tile(np.arange(1, 4), d.shape[0]) # summer months are numbered from 1 to 3\n",
    "y = d[:, 1:4].ravel()\n",
    "N = len(x)\n",
    "data = dict(\n",
    "    N = N,\n",
    "    K = 3,  # 3 groups\n",
    "    x = x,  # group indicators\n",
    "    y = y   # observations\n",
    ")"
   ]
  },
  {
   "cell_type": "markdown",
   "metadata": {},
   "source": [
    "## Common variance (ANOVA) model"
   ]
  },
  {
   "cell_type": "code",
   "execution_count": 40,
   "metadata": {
    "collapsed": false,
    "scrolled": false
   },
   "outputs": [
    {
     "name": "stdout",
     "output_type": "stream",
     "text": [
      "// Comparison of k groups with common variance (ANOVA)\n",
      "data {\n",
      "  int<lower=0> N; // number of data points\n",
      "  int<lower=0> K; // number of groups\n",
      "  int<lower=1,upper=K> x[N]; // group indicator\n",
      "  vector[N] y; //\n",
      "}\n",
      "parameters {\n",
      "  vector[K] mu;        // group means\n",
      "  real<lower=0> sigma; // common std\n",
      "}\n",
      "model {\n",
      "  y ~ normal(mu[x], sigma);\n",
      "}\n",
      "\n"
     ]
    }
   ],
   "source": [
    "with open('grp_aov.stan') as file:\n",
    "    print(file.read())"
   ]
  },
  {
   "cell_type": "markdown",
   "metadata": {},
   "source": [
    "Fit the model"
   ]
  },
  {
   "cell_type": "code",
   "execution_count": 41,
   "metadata": {
    "collapsed": false
   },
   "outputs": [
    {
     "name": "stdout",
     "output_type": "stream",
     "text": [
      "Using cached StanModel\n"
     ]
    }
   ],
   "source": [
    "model = stan_utility.compile_model('grp_aov.stan')\n",
    "fit = model.sampling(data=data, seed=194838)\n",
    "samples = fit.extract(permuted=True)"
   ]
  },
  {
   "cell_type": "markdown",
   "metadata": {},
   "source": [
    "Check the `n_eff` and `Rhat`"
   ]
  },
  {
   "cell_type": "code",
   "execution_count": 42,
   "metadata": {
    "collapsed": false,
    "scrolled": true
   },
   "outputs": [
    {
     "name": "stdout",
     "output_type": "stream",
     "text": [
      "Inference for Stan model: anon_model_7564a28d1f0313ff396284979a4361d6.\n",
      "4 chains, each with iter=2000; warmup=1000; thin=1; \n",
      "post-warmup draws per chain=1000, total post-warmup draws=4000.\n",
      "\n",
      "        mean se_mean     sd   2.5%    25%    50%    75%  97.5%  n_eff   Rhat\n",
      "mu[0]   7.55  3.1e-3    0.2   7.15   7.41   7.55   7.68   7.93   4000    1.0\n",
      "mu[1]  10.96  3.0e-3   0.19   10.6  10.83  10.96  11.09  11.35   4000    1.0\n",
      "mu[2]   9.44  3.0e-3   0.19   9.07   9.31   9.44   9.56   9.81   4000    1.0\n",
      "sigma   1.53  1.3e-3   0.08   1.38   1.47   1.53   1.58    1.7   4000    1.0\n",
      "lp__  -170.8    0.03   1.39 -174.3 -171.6 -170.5 -169.8 -169.1   2182    1.0\n",
      "\n",
      "Samples were drawn using NUTS at Mon Aug 28 08:59:00 2017.\n",
      "For each parameter, n_eff is a crude measure of effective sample size,\n",
      "and Rhat is the potential scale reduction factor on split chains (at \n",
      "convergence, Rhat=1).\n"
     ]
    }
   ],
   "source": [
    "print(fit)"
   ]
  },
  {
   "cell_type": "markdown",
   "metadata": {},
   "source": [
    "Check the treedepth, E-BFMI, and divergences"
   ]
  },
  {
   "cell_type": "code",
   "execution_count": 43,
   "metadata": {
    "collapsed": false
   },
   "outputs": [
    {
     "name": "stdout",
     "output_type": "stream",
     "text": [
      "2 of 4000 iterations saturated the maximum tree depth of 10 (0.05%)\n",
      "Run again with max_depth set to a larger value to avoid saturation\n",
      "0.0 of 4000 iterations ended with a divergence (0.0%)\n"
     ]
    }
   ],
   "source": [
    "stan_utility.check_treedepth(fit)\n",
    "stan_utility.check_energy(fit)\n",
    "stan_utility.check_div(fit)"
   ]
  },
  {
   "cell_type": "markdown",
   "metadata": {},
   "source": [
    "Plot group mean distributions and matrix of probabilities that one mu is larger than other."
   ]
  },
  {
   "cell_type": "code",
   "execution_count": 44,
   "metadata": {
    "collapsed": false
   },
   "outputs": [
    {
     "name": "stdout",
     "output_type": "stream",
     "text": [
      "Matrix of probabilities that one mu is larger than other:\n",
      "[[ 0.  0.  0.]\n",
      " [ 1.  0.  1.]\n",
      " [ 1.  0.  0.]]\n"
     ]
    },
    {
     "data": {
      "image/png": "[encoded data removed]",
      "text/plain": [
       "<matplotlib.figure.Figure at 0x7fadb3e1c5f8>"
      ]
     },
     "metadata": {},
     "output_type": "display_data"
    }
   ],
   "source": [
    "# matrix of probabilities that one mu is larger than other\n",
    "mu = fit.extract(permuted=True)['mu']\n",
    "ps = np.zeros((3, 3))\n",
    "for k1 in range(3):\n",
    "    for k2 in range(k1+1, 3):\n",
    "        ps[k1, k2] = np.mean(mu[:, k1] > mu[:, k2])\n",
    "        ps[k2, k1] = 1 - ps[k1, k2]\n",
    "print(\"Matrix of probabilities that one mu is larger than other:\")\n",
    "print(ps)\n",
    "\n",
    "# plot violins\n",
    "plt.violinplot(mu, showmeans=True, showextrema=False)\n",
    "plt.xticks(np.arange(1, 4))\n",
    "plt.xlabel('group')\n",
    "plt.ylabel('mu');"
   ]
  },
  {
   "cell_type": "markdown",
   "metadata": {},
   "source": [
    "## Common variance and hierarchical prior for mean.\n",
    "\n",
    "Results do not differ much from the previous, because there is only\n",
    "few groups and quite much data per group, but this works as an example of a hierarchical model.\n"
   ]
  },
  {
   "cell_type": "code",
   "execution_count": 45,
   "metadata": {
    "collapsed": false,
    "scrolled": false
   },
   "outputs": [
    {
     "name": "stdout",
     "output_type": "stream",
     "text": [
      "// Comparison of k groups with common variance and\n",
      "// hierarchical prior for the mean\n",
      "data {\n",
      "    int<lower=0> N; // number of data points\n",
      "    int<lower=0> K; // number of groups\n",
      "    int<lower=1,upper=K> x[N]; // group indicator\n",
      "    vector[N] y; //\n",
      "}\n",
      "parameters {\n",
      "    real mu0;             // prior mean\n",
      "    real<lower=0> sigma0; // prior std\n",
      "    vector[K] mu;         // group means\n",
      "    real<lower=0> sigma;  // common std\n",
      "}\n",
      "model {\n",
      "  mu0 ~ normal(10,10);      // weakly informative prior\n",
      "  sigma0 ~ cauchy(0,4);     // weakly informative prior\n",
      "  mu ~ normal(mu0, sigma0); // population prior with unknown parameters\n",
      "  sigma ~ cauchy(0,4);      // weakly informative prior\n",
      "  y ~ normal(mu[x], sigma);\n",
      "}\n",
      "\n"
     ]
    }
   ],
   "source": [
    "with open('grp_prior_mean.stan') as file:\n",
    "    print(file.read())"
   ]
  },
  {
   "cell_type": "markdown",
   "metadata": {},
   "source": [
    "Fit the model"
   ]
  },
  {
   "cell_type": "code",
   "execution_count": 46,
   "metadata": {
    "collapsed": false
   },
   "outputs": [
    {
     "name": "stdout",
     "output_type": "stream",
     "text": [
      "Using cached StanModel\n"
     ]
    }
   ],
   "source": [
    "model = stan_utility.compile_model('grp_prior_mean.stan')\n",
    "fit = model.sampling(data=data, seed=194838)\n",
    "samples = fit.extract(permuted=True)"
   ]
  },
  {
   "cell_type": "markdown",
   "metadata": {},
   "source": [
    "Plot group mean distributions and matrix of probabilities that one mu is larger than other."
   ]
  },
  {
   "cell_type": "code",
   "execution_count": 47,
   "metadata": {
    "collapsed": false
   },
   "outputs": [
    {
     "name": "stdout",
     "output_type": "stream",
     "text": [
      "Matrix of probabilities that one mu is larger than other:\n",
      "[[ 0.  0.  0.]\n",
      " [ 1.  0.  1.]\n",
      " [ 1.  0.  0.]]\n"
     ]
    },
    {
     "data": {
      "image/png": "[encoded data removed]",
      "text/plain": [
       "<matplotlib.figure.Figure at 0x7fadb3e6f518>"
      ]
     },
     "metadata": {},
     "output_type": "display_data"
    }
   ],
   "source": [
    "# matrix of probabilities that one mu is larger than other\n",
    "mu = fit.extract(permuted=True)['mu']\n",
    "ps = np.zeros((3, 3))\n",
    "for k1 in range(3):\n",
    "    for k2 in range(k1+1, 3):\n",
    "        ps[k1, k2] = np.mean(mu[:, k1] > mu[:, k2])\n",
    "        ps[k2, k1] = 1 - ps[k1, k2]\n",
    "print(\"Matrix of probabilities that one mu is larger than other:\")\n",
    "print(ps)\n",
    "\n",
    "# plot violins\n",
    "plt.violinplot(mu, showmeans=True, showextrema=False)\n",
    "plt.xticks(np.arange(1, 4))\n",
    "plt.xlabel('group')\n",
    "plt.ylabel('mu');"
   ]
  },
  {
   "cell_type": "markdown",
   "metadata": {},
   "source": [
    "## Unequal variance and hierarchical prior for mean and variance\n",
    "\n",
    "Results do not differ much from the previous, because there is only\n",
    "few groups and quite much data per group, but this works as an example of a hierarchical model."
   ]
  },
  {
   "cell_type": "code",
   "execution_count": 48,
   "metadata": {
    "collapsed": false,
    "scrolled": false
   },
   "outputs": [
    {
     "name": "stdout",
     "output_type": "stream",
     "text": [
      "// Comparison of k groups with unequal variance and\n",
      "// hierarchical priors for the mean and the variance\n",
      "data {\n",
      "  int<lower=0> N; // number of data points\n",
      "  int<lower=0> K; // number of groups\n",
      "  int<lower=1,upper=K> x[N]; // group indicator\n",
      "  vector[N] y; //\n",
      "}\n",
      "parameters {\n",
      "  real mu0;                 // prior mean\n",
      "  real<lower=0> musigma0;   // prior std\n",
      "  vector[K] mu;             // group means\n",
      "  real lsigma0;             // prior mean\n",
      "  real<lower=0> lsigma0s;   // prior std\n",
      "  vector<lower=0>[K] sigma; // group stds\n",
      "}\n",
      "model {\n",
      "  mu0 ~ normal(10, 10);       // weakly informative prior\n",
      "  musigma0 ~ cauchy(0,10);    // weakly informative prior\n",
      "  mu ~ normal(mu0, musigma0); // population prior with unknown parameters\n",
      "  lsigma0 ~ normal(0,1);      // weakly informative prior\n",
      "  lsigma0s ~ normal(0,1);     // weakly informative prior\n",
      "  sigma ~ cauchy(lsigma0, lsigma0s); // population prior with unknown parameters\n",
      "  y ~ normal(mu[x], sigma[x]);\n",
      "}\n",
      "\n"
     ]
    }
   ],
   "source": [
    "with open('grp_prior_mean_var.stan') as file:\n",
    "    print(file.read())"
   ]
  },
  {
   "cell_type": "markdown",
   "metadata": {},
   "source": [
    "Fit the model"
   ]
  },
  {
   "cell_type": "code",
   "execution_count": 49,
   "metadata": {
    "collapsed": false
   },
   "outputs": [
    {
     "name": "stdout",
     "output_type": "stream",
     "text": [
      "Using cached StanModel\n"
     ]
    }
   ],
   "source": [
    "model = stan_utility.compile_model('grp_prior_mean_var.stan')\n",
    "fit = model.sampling(data=data, seed=194838)\n",
    "samples = fit.extract(permuted=True)"
   ]
  },
  {
   "cell_type": "markdown",
   "metadata": {},
   "source": [
    "Plot group mean distributions and matrix of probabilities that one mu is larger than other:"
   ]
  },
  {
   "cell_type": "code",
   "execution_count": 50,
   "metadata": {
    "collapsed": false
   },
   "outputs": [
    {
     "name": "stdout",
     "output_type": "stream",
     "text": [
      "std(mu0): 2.55\n",
      "Matrix of probabilities that one mu is larger than other:\n",
      "[[ 0.  0.  0.]\n",
      " [ 1.  0.  1.]\n",
      " [ 1.  0.  0.]]\n"
     ]
    },
    {
     "data": {
      "image/png": "[encoded data removed]",
      "text/plain": [
       "<matplotlib.figure.Figure at 0x7fadb019c208>"
      ]
     },
     "metadata": {},
     "output_type": "display_data"
    }
   ],
   "source": [
    "samples = fit.extract(permuted=True)\n",
    "print(\"std(mu0): {:.2f}\".format(np.std(samples['mu0'])))\n",
    "mu = samples['mu']\n",
    "\n",
    "# matrix of probabilities that one mu is larger than other\n",
    "ps = np.zeros((3, 3))\n",
    "for k1 in range(3):\n",
    "    for k2 in range(k1+1, 3):\n",
    "        ps[k1, k2] = np.mean(mu[:, k1] > mu[:, k2])\n",
    "        ps[k2, k1] = 1 - ps[k1, k2]\n",
    "print(\"Matrix of probabilities that one mu is larger than other:\")\n",
    "print(ps)\n",
    "\n",
    "# plot violins\n",
    "plt.violinplot(mu, showmeans=True, showextrema=False)\n",
    "plt.xticks(np.arange(1, 4))\n",
    "plt.xlabel('group')\n",
    "plt.ylabel('mu');"
   ]
  }
 ],
 "metadata": {
  "kernelspec": {
   "display_name": "Python 3",
   "language": "python",
   "name": "python3"
  },
  "language_info": {
   "codemirror_mode": {
    "name": "ipython",
    "version": 3
   },
   "file_extension": ".py",
   "mimetype": "text/x-python",
   "name": "python",
   "nbconvert_exporter": "python",
   "pygments_lexer": "ipython3",
   "version": "3.5.2"
  }
 },
 "nbformat": 4,
 "nbformat_minor": 1
}

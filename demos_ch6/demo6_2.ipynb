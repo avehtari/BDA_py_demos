{
 "cells": [
  {
   "cell_type": "markdown",
   "metadata": {},
   "source": [
    "### Bayesian data analysis\n",
    "##  Chapter 6, demo 2\n",
    "\n",
    "Posterior predictive checking  \n",
    "Binomial example - Testing sequential dependence example"
   ]
  },
  {
   "cell_type": "code",
   "execution_count": 1,
   "metadata": {
    "collapsed": false
   },
   "outputs": [],
   "source": [
    "import numpy as np\n",
    "\n",
    "%matplotlib inline\n",
    "import matplotlib.pyplot as plt"
   ]
  },
  {
   "cell_type": "code",
   "execution_count": 2,
   "metadata": {
    "collapsed": true
   },
   "outputs": [],
   "source": [
    "import os, sys\n",
    "# add utilities directory to path\n",
    "util_path = os.path.abspath(os.path.join(os.path.pardir, 'utilities_and_data'))\n",
    "if util_path not in sys.path and os.path.exists(util_path):\n",
    "    sys.path.insert(0, util_path)\n",
    "\n",
    "# import from utilities\n",
    "import plot_tools"
   ]
  },
  {
   "cell_type": "code",
   "execution_count": 3,
   "metadata": {
    "collapsed": false
   },
   "outputs": [],
   "source": [
    "# edit default plot settings\n",
    "plt.rc('font', size=12)"
   ]
  },
  {
   "cell_type": "code",
   "execution_count": 4,
   "metadata": {
    "collapsed": false
   },
   "outputs": [],
   "source": [
    "# Testing sequential dependence example (Gelman et al p. 163)\n",
    "y = np.array([1, 1, 0, 0, 0, 0, 0, 1, 1, 1, 1, 1, 0, 0, 0, 0, 0, 0, 0, 0])\n",
    "Ty = np.count_nonzero(np.diff(y))\n",
    "\n",
    "# sufficient statistics\n",
    "n = len(y)\n",
    "s = y.sum()\n",
    "\n",
    "nsamp = 10000\n",
    "t = np.random.beta(s+1, n-s+1, size=nsamp)\n",
    "yr = np.random.rand(n, nsamp) < t\n",
    "# sadly np.count_nonzero does not (yet) support axis parameter\n",
    "Tyr = (np.diff(yr, axis=0) != 0).sum(axis=0)"
   ]
  },
  {
   "cell_type": "code",
   "execution_count": 5,
   "metadata": {
    "collapsed": false
   },
   "outputs": [
    {
     "data": {
      "image/png": "[encoded data removed]",
      "text/plain": [
       "<matplotlib.figure.Figure at 0x7f79a17b67b8>"
      ]
     },
     "metadata": {},
     "output_type": "display_data"
    }
   ],
   "source": [
    "# plot\n",
    "plt.hist(\n",
    "    Tyr,\n",
    "    np.arange(19),\n",
    "    align='left',\n",
    "    label='$T(y_\\mathrm{rep})$',\n",
    "    color=plot_tools.lighten('C0', 0.3)\n",
    ")\n",
    "plt.axvline(Ty, color='red', label='$T(y)$')\n",
    "plt.xlim((-0.5, 17.5))\n",
    "plt.title(\n",
    "    'Binomial example - number of changes? \\n'\n",
    "    r'$\\operatorname{Pr}(T(y_\\mathrm{rep},\\theta) \\leq T(y,\\theta)|y) = 0.03$',\n",
    "    fontsize=16\n",
    ")\n",
    "plt.legend()\n",
    "plot_tools.modify_axes.only_x(plt.gca())\n",
    "plt.tight_layout()"
   ]
  }
 ],
 "metadata": {
  "kernelspec": {
   "display_name": "Python 3",
   "language": "python",
   "name": "python3"
  },
  "language_info": {
   "codemirror_mode": {
    "name": "ipython",
    "version": 3
   },
   "file_extension": ".py",
   "mimetype": "text/x-python",
   "name": "python",
   "nbconvert_exporter": "python",
   "pygments_lexer": "ipython3",
   "version": "3.5.2"
  }
 },
 "nbformat": 4,
 "nbformat_minor": 0
}

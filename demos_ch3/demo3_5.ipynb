{
 "cells": [
  {
   "cell_type": "markdown",
   "metadata": {},
   "source": [
    "### Bayesian Data Analysis, 3rd ed\n",
    "##  Chapter 3, demo 5\n",
    "\n",
    "Demonstrate a normal model for the Newcomb's data (BDA3 p. 66)."
   ]
  },
  {
   "cell_type": "code",
   "execution_count": 1,
   "metadata": {
    "collapsed": false
   },
   "outputs": [],
   "source": [
    "import numpy as np\n",
    "from scipy import stats\n",
    "\n",
    "%matplotlib inline\n",
    "import matplotlib.pyplot as plt"
   ]
  },
  {
   "cell_type": "code",
   "execution_count": 2,
   "metadata": {
    "collapsed": true
   },
   "outputs": [],
   "source": [
    "import os, sys\n",
    "# add utilities directory to path\n",
    "util_path = os.path.abspath(os.path.join(os.path.pardir, 'utilities_and_data'))\n",
    "if util_path not in sys.path and os.path.exists(util_path):\n",
    "    sys.path.insert(0, util_path)\n",
    "\n",
    "# import from utilities\n",
    "import plot_tools"
   ]
  },
  {
   "cell_type": "code",
   "execution_count": 3,
   "metadata": {
    "collapsed": false
   },
   "outputs": [],
   "source": [
    "# edit default plot settings\n",
    "plt.rc('font', size=12)\n",
    "# apply custom background plotting style\n",
    "plt.style.use(plot_tools.custom_styles['gray_background'])"
   ]
  },
  {
   "cell_type": "code",
   "execution_count": 4,
   "metadata": {
    "collapsed": false
   },
   "outputs": [],
   "source": [
    "# data\n",
    "data_path = os.path.abspath(\n",
    "    os.path.join(\n",
    "        os.path.pardir,\n",
    "        'utilities_and_data',\n",
    "        'light.txt'\n",
    "    )\n",
    ")\n",
    "y = np.loadtxt(data_path)\n",
    "# sufficient statistics\n",
    "n = len(y)\n",
    "s2 = np.var(y, ddof=1)  # ddof=1 -> sample estimate\n",
    "my = np.mean(y)\n",
    "\n",
    "# filtered data\n",
    "y_pos = y[y > 0]\n",
    "# sufficient statistics\n",
    "n_pos = len(y_pos)\n",
    "s2_pos = np.var(y_pos, ddof=1)\n",
    "my_pos = np.mean(y_pos)"
   ]
  },
  {
   "cell_type": "code",
   "execution_count": 5,
   "metadata": {
    "collapsed": false
   },
   "outputs": [],
   "source": [
    "# for mu, compute the density in these points\n",
    "tl1 = [10, 40]\n",
    "t1 = np.linspace(tl1[0], tl1[1], 100)\n",
    "\n",
    "# compute the exact marginal density for mu\n",
    "# multiplication by 1./sqrt(s2/n) is due to the transformation of variable\n",
    "# z=(x-mean(y))/sqrt(s2/n), see BDA3 p. 21\n",
    "pm_mu = stats.t.pdf((t1 - my) / np.sqrt(s2/n), n-1) / np.sqrt(s2/n)\n",
    "\n",
    "# compute the exact marginal density for mu for the filtered data\n",
    "pm_mu_pos = (\n",
    "    stats.t.pdf((t1 - my_pos) / np.sqrt(s2_pos/n_pos), n_pos-1) /\n",
    "    np.sqrt(s2_pos/n_pos)\n",
    ")"
   ]
  },
  {
   "cell_type": "code",
   "execution_count": 6,
   "metadata": {
    "collapsed": false
   },
   "outputs": [
    {
     "data": {
      "image/png": "[encoded data removed]",
      "text/plain": [
       "<matplotlib.figure.Figure at 0x7f2a3098c160>"
      ]
     },
     "metadata": {},
     "output_type": "display_data"
    }
   ],
   "source": [
    "# Plotting\n",
    "\n",
    "# create figure\n",
    "fig, axes = plt.subplots(2, 1, sharex=True, figsize=(8, 8))\n",
    "\n",
    "# plot histogram\n",
    "ax = axes[0]\n",
    "ax.hist(y, np.arange(-44, 43, 2))\n",
    "# decorate\n",
    "ax.set_title('Newcomb\\'s measurements')\n",
    "ax.set_ylabel('count')\n",
    "ax.set_xlabel('$\\mu$')\n",
    "plt.setp(axes[0].get_xticklabels(), visible=True)\n",
    "\n",
    "# plot the posterior of mu\n",
    "ax = axes[1]\n",
    "ax.plot(t1, pm_mu)\n",
    "# plot the posterior of mu in the filtered case\n",
    "ax.plot(t1, pm_mu_pos)\n",
    "# Plot the currently accepted true value\n",
    "ax.axvline(33, color='k', linestyle='--')\n",
    "ax.legend(\n",
    "    ('posterior of $\\mu$',\n",
    "     'posterior of $\\mu$ given $y > 0$',\n",
    "     '\"true value\"'),\n",
    "    loc='upper left'\n",
    ")\n",
    "ax.set_title('Normal model')\n",
    "ax.set_xlabel('$\\mu$')\n",
    "ax.set_yticks(())\n",
    "# set bottom to zero\n",
    "ax.set_ylim((0, ax.set_ylim()[1]))\n",
    "\n",
    "fig.tight_layout()"
   ]
  }
 ],
 "metadata": {
  "kernelspec": {
   "display_name": "Python 3",
   "language": "python",
   "name": "python3"
  },
  "language_info": {
   "codemirror_mode": {
    "name": "ipython",
    "version": 3
   },
   "file_extension": ".py",
   "mimetype": "text/x-python",
   "name": "python",
   "nbconvert_exporter": "python",
   "pygments_lexer": "ipython3",
   "version": "3.5.2"
  }
 },
 "nbformat": 4,
 "nbformat_minor": 0
}
